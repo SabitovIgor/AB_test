{
 "cells": [
  {
   "cell_type": "markdown",
   "metadata": {},
   "source": [
    "#   Цель проекта"
   ]
  },
  {
   "cell_type": "markdown",
   "metadata": {},
   "source": [
    "Я аналитик крупного интернет-магазина. Вместе с отделом маркетинга я подготовил список гипотез для увеличения выручки.\n",
    "Нужно приоритизировать гипотезы, запустить A/B-тест и проанализировать результаты по конверсии и среднему чеку заказа."
   ]
  },
  {
   "cell_type": "markdown",
   "metadata": {},
   "source": [
    "# Приоритизация гипотез."
   ]
  },
  {
   "cell_type": "markdown",
   "metadata": {},
   "source": [
    "Импортируем библиотеки"
   ]
  },
  {
   "cell_type": "code",
   "execution_count": 26,
   "metadata": {},
   "outputs": [],
   "source": [
    "import pandas as pd # импорт библиотеки pandas\n",
    "import matplotlib.pyplot as plt # импорт библиотеки matplotlib\n",
    "import seaborn as sns # импорт библиотеки seaborn\n",
    "import numpy as np # импорт библиотеки numpy\n",
    "import scipy.stats as stats # импорт библиотеки stats\n",
    "import datetime as dt # импорт библиотеки datetime\n",
    "pd.set_option('display.max_colwidth', 150)"
   ]
  },
  {
   "cell_type": "markdown",
   "metadata": {},
   "source": [
    "Прочтем файл при помощи библиотеки Pandas и сохраним в датафрейм"
   ]
  },
  {
   "cell_type": "code",
   "execution_count": 27,
   "metadata": {},
   "outputs": [],
   "source": [
    "hypothesis = pd.read_csv('/datasets/hypothesis.csv') # чтение файла с данными и сохранение в hypothesis"
   ]
  },
  {
   "cell_type": "markdown",
   "metadata": {},
   "source": [
    "Изучим таблицу"
   ]
  },
  {
   "cell_type": "code",
   "execution_count": 28,
   "metadata": {},
   "outputs": [
    {
     "data": {
      "text/html": [
       "<div>\n",
       "<style scoped>\n",
       "    .dataframe tbody tr th:only-of-type {\n",
       "        vertical-align: middle;\n",
       "    }\n",
       "\n",
       "    .dataframe tbody tr th {\n",
       "        vertical-align: top;\n",
       "    }\n",
       "\n",
       "    .dataframe thead th {\n",
       "        text-align: right;\n",
       "    }\n",
       "</style>\n",
       "<table border=\"1\" class=\"dataframe\">\n",
       "  <thead>\n",
       "    <tr style=\"text-align: right;\">\n",
       "      <th></th>\n",
       "      <th>Hypothesis</th>\n",
       "      <th>Reach</th>\n",
       "      <th>Impact</th>\n",
       "      <th>Confidence</th>\n",
       "      <th>Efforts</th>\n",
       "    </tr>\n",
       "  </thead>\n",
       "  <tbody>\n",
       "    <tr>\n",
       "      <th>0</th>\n",
       "      <td>Добавить два новых канала привлечения трафика, что позволит привлекать на 30% больше пользователей</td>\n",
       "      <td>3</td>\n",
       "      <td>10</td>\n",
       "      <td>8</td>\n",
       "      <td>6</td>\n",
       "    </tr>\n",
       "    <tr>\n",
       "      <th>1</th>\n",
       "      <td>Запустить собственную службу доставки, что сократит срок доставки заказов</td>\n",
       "      <td>2</td>\n",
       "      <td>5</td>\n",
       "      <td>4</td>\n",
       "      <td>10</td>\n",
       "    </tr>\n",
       "    <tr>\n",
       "      <th>2</th>\n",
       "      <td>Добавить блоки рекомендаций товаров на сайт интернет магазина, чтобы повысить конверсию и средний чек заказа</td>\n",
       "      <td>8</td>\n",
       "      <td>3</td>\n",
       "      <td>7</td>\n",
       "      <td>3</td>\n",
       "    </tr>\n",
       "    <tr>\n",
       "      <th>3</th>\n",
       "      <td>Изменить структура категорий, что увеличит конверсию, т.к. пользователи быстрее найдут нужный товар</td>\n",
       "      <td>8</td>\n",
       "      <td>3</td>\n",
       "      <td>3</td>\n",
       "      <td>8</td>\n",
       "    </tr>\n",
       "    <tr>\n",
       "      <th>4</th>\n",
       "      <td>Изменить цвет фона главной страницы, чтобы увеличить вовлеченность пользователей</td>\n",
       "      <td>3</td>\n",
       "      <td>1</td>\n",
       "      <td>1</td>\n",
       "      <td>1</td>\n",
       "    </tr>\n",
       "    <tr>\n",
       "      <th>5</th>\n",
       "      <td>Добавить страницу отзывов клиентов о магазине, что позволит увеличить количество заказов</td>\n",
       "      <td>3</td>\n",
       "      <td>2</td>\n",
       "      <td>2</td>\n",
       "      <td>3</td>\n",
       "    </tr>\n",
       "    <tr>\n",
       "      <th>6</th>\n",
       "      <td>Показать на главной странице баннеры с актуальными акциями и распродажами, чтобы увеличить конверсию</td>\n",
       "      <td>5</td>\n",
       "      <td>3</td>\n",
       "      <td>8</td>\n",
       "      <td>3</td>\n",
       "    </tr>\n",
       "    <tr>\n",
       "      <th>7</th>\n",
       "      <td>Добавить форму подписки на все основные страницы, чтобы собрать базу клиентов для email-рассылок</td>\n",
       "      <td>10</td>\n",
       "      <td>7</td>\n",
       "      <td>8</td>\n",
       "      <td>5</td>\n",
       "    </tr>\n",
       "    <tr>\n",
       "      <th>8</th>\n",
       "      <td>Запустить акцию, дающую скидку на товар в день рождения</td>\n",
       "      <td>1</td>\n",
       "      <td>9</td>\n",
       "      <td>9</td>\n",
       "      <td>5</td>\n",
       "    </tr>\n",
       "  </tbody>\n",
       "</table>\n",
       "</div>"
      ],
      "text/plain": [
       "                                                                                                     Hypothesis  \\\n",
       "0            Добавить два новых канала привлечения трафика, что позволит привлекать на 30% больше пользователей   \n",
       "1                                     Запустить собственную службу доставки, что сократит срок доставки заказов   \n",
       "2  Добавить блоки рекомендаций товаров на сайт интернет магазина, чтобы повысить конверсию и средний чек заказа   \n",
       "3           Изменить структура категорий, что увеличит конверсию, т.к. пользователи быстрее найдут нужный товар   \n",
       "4                              Изменить цвет фона главной страницы, чтобы увеличить вовлеченность пользователей   \n",
       "5                      Добавить страницу отзывов клиентов о магазине, что позволит увеличить количество заказов   \n",
       "6          Показать на главной странице баннеры с актуальными акциями и распродажами, чтобы увеличить конверсию   \n",
       "7              Добавить форму подписки на все основные страницы, чтобы собрать базу клиентов для email-рассылок   \n",
       "8                                                       Запустить акцию, дающую скидку на товар в день рождения   \n",
       "\n",
       "   Reach  Impact  Confidence  Efforts  \n",
       "0      3      10           8        6  \n",
       "1      2       5           4       10  \n",
       "2      8       3           7        3  \n",
       "3      8       3           3        8  \n",
       "4      3       1           1        1  \n",
       "5      3       2           2        3  \n",
       "6      5       3           8        3  \n",
       "7     10       7           8        5  \n",
       "8      1       9           9        5  "
      ]
     },
     "metadata": {},
     "output_type": "display_data"
    }
   ],
   "source": [
    "display(hypothesis)"
   ]
  },
  {
   "cell_type": "markdown",
   "metadata": {},
   "source": [
    "Используем фреймворк ICE для приоритизации гипотез"
   ]
  },
  {
   "cell_type": "code",
   "execution_count": 29,
   "metadata": {},
   "outputs": [],
   "source": [
    "hypothesis['ICE'] = round((hypothesis['Impact']*hypothesis['Confidence'])/hypothesis['Efforts'], 1)"
   ]
  },
  {
   "cell_type": "markdown",
   "metadata": {},
   "source": [
    "Отсортируем их по убыванию приоритета"
   ]
  },
  {
   "cell_type": "code",
   "execution_count": 30,
   "metadata": {},
   "outputs": [
    {
     "data": {
      "text/html": [
       "<div>\n",
       "<style scoped>\n",
       "    .dataframe tbody tr th:only-of-type {\n",
       "        vertical-align: middle;\n",
       "    }\n",
       "\n",
       "    .dataframe tbody tr th {\n",
       "        vertical-align: top;\n",
       "    }\n",
       "\n",
       "    .dataframe thead th {\n",
       "        text-align: right;\n",
       "    }\n",
       "</style>\n",
       "<table border=\"1\" class=\"dataframe\">\n",
       "  <thead>\n",
       "    <tr style=\"text-align: right;\">\n",
       "      <th></th>\n",
       "      <th>Hypothesis</th>\n",
       "      <th>ICE</th>\n",
       "    </tr>\n",
       "  </thead>\n",
       "  <tbody>\n",
       "    <tr>\n",
       "      <th>8</th>\n",
       "      <td>Запустить акцию, дающую скидку на товар в день рождения</td>\n",
       "      <td>16.2</td>\n",
       "    </tr>\n",
       "    <tr>\n",
       "      <th>0</th>\n",
       "      <td>Добавить два новых канала привлечения трафика, что позволит привлекать на 30% больше пользователей</td>\n",
       "      <td>13.3</td>\n",
       "    </tr>\n",
       "    <tr>\n",
       "      <th>7</th>\n",
       "      <td>Добавить форму подписки на все основные страницы, чтобы собрать базу клиентов для email-рассылок</td>\n",
       "      <td>11.2</td>\n",
       "    </tr>\n",
       "    <tr>\n",
       "      <th>6</th>\n",
       "      <td>Показать на главной странице баннеры с актуальными акциями и распродажами, чтобы увеличить конверсию</td>\n",
       "      <td>8.0</td>\n",
       "    </tr>\n",
       "    <tr>\n",
       "      <th>2</th>\n",
       "      <td>Добавить блоки рекомендаций товаров на сайт интернет магазина, чтобы повысить конверсию и средний чек заказа</td>\n",
       "      <td>7.0</td>\n",
       "    </tr>\n",
       "    <tr>\n",
       "      <th>1</th>\n",
       "      <td>Запустить собственную службу доставки, что сократит срок доставки заказов</td>\n",
       "      <td>2.0</td>\n",
       "    </tr>\n",
       "    <tr>\n",
       "      <th>5</th>\n",
       "      <td>Добавить страницу отзывов клиентов о магазине, что позволит увеличить количество заказов</td>\n",
       "      <td>1.3</td>\n",
       "    </tr>\n",
       "    <tr>\n",
       "      <th>3</th>\n",
       "      <td>Изменить структура категорий, что увеличит конверсию, т.к. пользователи быстрее найдут нужный товар</td>\n",
       "      <td>1.1</td>\n",
       "    </tr>\n",
       "    <tr>\n",
       "      <th>4</th>\n",
       "      <td>Изменить цвет фона главной страницы, чтобы увеличить вовлеченность пользователей</td>\n",
       "      <td>1.0</td>\n",
       "    </tr>\n",
       "  </tbody>\n",
       "</table>\n",
       "</div>"
      ],
      "text/plain": [
       "                                                                                                     Hypothesis  \\\n",
       "8                                                       Запустить акцию, дающую скидку на товар в день рождения   \n",
       "0            Добавить два новых канала привлечения трафика, что позволит привлекать на 30% больше пользователей   \n",
       "7              Добавить форму подписки на все основные страницы, чтобы собрать базу клиентов для email-рассылок   \n",
       "6          Показать на главной странице баннеры с актуальными акциями и распродажами, чтобы увеличить конверсию   \n",
       "2  Добавить блоки рекомендаций товаров на сайт интернет магазина, чтобы повысить конверсию и средний чек заказа   \n",
       "1                                     Запустить собственную службу доставки, что сократит срок доставки заказов   \n",
       "5                      Добавить страницу отзывов клиентов о магазине, что позволит увеличить количество заказов   \n",
       "3           Изменить структура категорий, что увеличит конверсию, т.к. пользователи быстрее найдут нужный товар   \n",
       "4                              Изменить цвет фона главной страницы, чтобы увеличить вовлеченность пользователей   \n",
       "\n",
       "    ICE  \n",
       "8  16.2  \n",
       "0  13.3  \n",
       "7  11.2  \n",
       "6   8.0  \n",
       "2   7.0  \n",
       "1   2.0  \n",
       "5   1.3  \n",
       "3   1.1  \n",
       "4   1.0  "
      ]
     },
     "execution_count": 30,
     "metadata": {},
     "output_type": "execute_result"
    }
   ],
   "source": [
    "hypothesis[['Hypothesis', 'ICE']].sort_values(by='ICE', ascending=False)"
   ]
  },
  {
   "cell_type": "markdown",
   "metadata": {},
   "source": [
    "Используем фреймворк RICE для приоритизации гипотез"
   ]
  },
  {
   "cell_type": "code",
   "execution_count": 31,
   "metadata": {},
   "outputs": [],
   "source": [
    "hypothesis['RICE'] = (hypothesis['Impact']*hypothesis['Confidence']*hypothesis['Reach'])/hypothesis['Efforts']"
   ]
  },
  {
   "cell_type": "markdown",
   "metadata": {},
   "source": [
    "Отсортируем их по убыванию приоритета"
   ]
  },
  {
   "cell_type": "code",
   "execution_count": 32,
   "metadata": {},
   "outputs": [
    {
     "data": {
      "text/html": [
       "<div>\n",
       "<style scoped>\n",
       "    .dataframe tbody tr th:only-of-type {\n",
       "        vertical-align: middle;\n",
       "    }\n",
       "\n",
       "    .dataframe tbody tr th {\n",
       "        vertical-align: top;\n",
       "    }\n",
       "\n",
       "    .dataframe thead th {\n",
       "        text-align: right;\n",
       "    }\n",
       "</style>\n",
       "<table border=\"1\" class=\"dataframe\">\n",
       "  <thead>\n",
       "    <tr style=\"text-align: right;\">\n",
       "      <th></th>\n",
       "      <th>Hypothesis</th>\n",
       "      <th>RICE</th>\n",
       "      <th>ICE</th>\n",
       "    </tr>\n",
       "  </thead>\n",
       "  <tbody>\n",
       "    <tr>\n",
       "      <th>7</th>\n",
       "      <td>Добавить форму подписки на все основные страницы, чтобы собрать базу клиентов для email-рассылок</td>\n",
       "      <td>112.0</td>\n",
       "      <td>11.2</td>\n",
       "    </tr>\n",
       "    <tr>\n",
       "      <th>2</th>\n",
       "      <td>Добавить блоки рекомендаций товаров на сайт интернет магазина, чтобы повысить конверсию и средний чек заказа</td>\n",
       "      <td>56.0</td>\n",
       "      <td>7.0</td>\n",
       "    </tr>\n",
       "    <tr>\n",
       "      <th>0</th>\n",
       "      <td>Добавить два новых канала привлечения трафика, что позволит привлекать на 30% больше пользователей</td>\n",
       "      <td>40.0</td>\n",
       "      <td>13.3</td>\n",
       "    </tr>\n",
       "    <tr>\n",
       "      <th>6</th>\n",
       "      <td>Показать на главной странице баннеры с актуальными акциями и распродажами, чтобы увеличить конверсию</td>\n",
       "      <td>40.0</td>\n",
       "      <td>8.0</td>\n",
       "    </tr>\n",
       "    <tr>\n",
       "      <th>8</th>\n",
       "      <td>Запустить акцию, дающую скидку на товар в день рождения</td>\n",
       "      <td>16.2</td>\n",
       "      <td>16.2</td>\n",
       "    </tr>\n",
       "    <tr>\n",
       "      <th>3</th>\n",
       "      <td>Изменить структура категорий, что увеличит конверсию, т.к. пользователи быстрее найдут нужный товар</td>\n",
       "      <td>9.0</td>\n",
       "      <td>1.1</td>\n",
       "    </tr>\n",
       "    <tr>\n",
       "      <th>1</th>\n",
       "      <td>Запустить собственную службу доставки, что сократит срок доставки заказов</td>\n",
       "      <td>4.0</td>\n",
       "      <td>2.0</td>\n",
       "    </tr>\n",
       "    <tr>\n",
       "      <th>5</th>\n",
       "      <td>Добавить страницу отзывов клиентов о магазине, что позволит увеличить количество заказов</td>\n",
       "      <td>4.0</td>\n",
       "      <td>1.3</td>\n",
       "    </tr>\n",
       "    <tr>\n",
       "      <th>4</th>\n",
       "      <td>Изменить цвет фона главной страницы, чтобы увеличить вовлеченность пользователей</td>\n",
       "      <td>3.0</td>\n",
       "      <td>1.0</td>\n",
       "    </tr>\n",
       "  </tbody>\n",
       "</table>\n",
       "</div>"
      ],
      "text/plain": [
       "                                                                                                     Hypothesis  \\\n",
       "7              Добавить форму подписки на все основные страницы, чтобы собрать базу клиентов для email-рассылок   \n",
       "2  Добавить блоки рекомендаций товаров на сайт интернет магазина, чтобы повысить конверсию и средний чек заказа   \n",
       "0            Добавить два новых канала привлечения трафика, что позволит привлекать на 30% больше пользователей   \n",
       "6          Показать на главной странице баннеры с актуальными акциями и распродажами, чтобы увеличить конверсию   \n",
       "8                                                       Запустить акцию, дающую скидку на товар в день рождения   \n",
       "3           Изменить структура категорий, что увеличит конверсию, т.к. пользователи быстрее найдут нужный товар   \n",
       "1                                     Запустить собственную службу доставки, что сократит срок доставки заказов   \n",
       "5                      Добавить страницу отзывов клиентов о магазине, что позволит увеличить количество заказов   \n",
       "4                              Изменить цвет фона главной страницы, чтобы увеличить вовлеченность пользователей   \n",
       "\n",
       "    RICE   ICE  \n",
       "7  112.0  11.2  \n",
       "2   56.0   7.0  \n",
       "0   40.0  13.3  \n",
       "6   40.0   8.0  \n",
       "8   16.2  16.2  \n",
       "3    9.0   1.1  \n",
       "1    4.0   2.0  \n",
       "5    4.0   1.3  \n",
       "4    3.0   1.0  "
      ]
     },
     "execution_count": 32,
     "metadata": {},
     "output_type": "execute_result"
    }
   ],
   "source": [
    "hypothesis[['Hypothesis', 'RICE', 'ICE']].sort_values(by='RICE', ascending=False)"
   ]
  },
  {
   "cell_type": "markdown",
   "metadata": {},
   "source": [
    "Мы видим, что приоритизация задач изменилась при выборе фреймворков. Это произошло из за добавления во фреймворке RICE показателя охвата REACH. Он учитывает количество пользователей, которое затронет изменение \"фичи\". "
   ]
  },
  {
   "cell_type": "markdown",
   "metadata": {},
   "source": [
    "# A/B-тест"
   ]
  },
  {
   "cell_type": "markdown",
   "metadata": {},
   "source": [
    "## Стабильность кумулятивных метрик"
   ]
  },
  {
   "cell_type": "markdown",
   "metadata": {},
   "source": [
    "Прочитаем файлы, сохраним их в переменные"
   ]
  },
  {
   "cell_type": "code",
   "execution_count": 33,
   "metadata": {},
   "outputs": [],
   "source": [
    "orders = pd.read_csv('/datasets/orders.csv', sep=',') # чтение файла с данными и сохранение в orders\n",
    "visitors = pd.read_csv('/datasets/visitors.csv', sep=',') # чтение файла с данными и сохранение в visitors"
   ]
  },
  {
   "cell_type": "code",
   "execution_count": 34,
   "metadata": {},
   "outputs": [
    {
     "name": "stdout",
     "output_type": "stream",
     "text": [
      "<class 'pandas.core.frame.DataFrame'>\n",
      "RangeIndex: 1197 entries, 0 to 1196\n",
      "Data columns (total 5 columns):\n",
      " #   Column         Non-Null Count  Dtype \n",
      "---  ------         --------------  ----- \n",
      " 0   transactionId  1197 non-null   int64 \n",
      " 1   visitorId      1197 non-null   int64 \n",
      " 2   date           1197 non-null   object\n",
      " 3   revenue        1197 non-null   int64 \n",
      " 4   group          1197 non-null   object\n",
      "dtypes: int64(3), object(2)\n",
      "memory usage: 46.9+ KB\n"
     ]
    }
   ],
   "source": [
    "orders.info() # выводим информацию таблицы"
   ]
  },
  {
   "cell_type": "code",
   "execution_count": 35,
   "metadata": {},
   "outputs": [
    {
     "name": "stdout",
     "output_type": "stream",
     "text": [
      "<class 'pandas.core.frame.DataFrame'>\n",
      "RangeIndex: 62 entries, 0 to 61\n",
      "Data columns (total 3 columns):\n",
      " #   Column    Non-Null Count  Dtype \n",
      "---  ------    --------------  ----- \n",
      " 0   date      62 non-null     object\n",
      " 1   group     62 non-null     object\n",
      " 2   visitors  62 non-null     int64 \n",
      "dtypes: int64(1), object(2)\n",
      "memory usage: 1.6+ KB\n"
     ]
    }
   ],
   "source": [
    "visitors.info() # выводим информацию таблицы"
   ]
  },
  {
   "cell_type": "markdown",
   "metadata": {},
   "source": [
    "Меняем тип данных"
   ]
  },
  {
   "cell_type": "code",
   "execution_count": 36,
   "metadata": {},
   "outputs": [],
   "source": [
    "visitors['date'] = pd.to_datetime(visitors['date'])\n",
    "orders['date'] = orders['date'].map(lambda x: dt.datetime.strptime(x, '%Y-%m-%d'))                                 "
   ]
  },
  {
   "cell_type": "markdown",
   "metadata": {},
   "source": [
    "Узнаем минимальную и максимальную дату А/В тестирования"
   ]
  },
  {
   "cell_type": "code",
   "execution_count": 37,
   "metadata": {},
   "outputs": [
    {
     "data": {
      "text/plain": [
       "Timestamp('2019-08-31 00:00:00')"
      ]
     },
     "execution_count": 37,
     "metadata": {},
     "output_type": "execute_result"
    }
   ],
   "source": [
    "visitors['date'].max()"
   ]
  },
  {
   "cell_type": "code",
   "execution_count": 38,
   "metadata": {},
   "outputs": [
    {
     "data": {
      "text/plain": [
       "Timestamp('2019-08-01 00:00:00')"
      ]
     },
     "execution_count": 38,
     "metadata": {},
     "output_type": "execute_result"
    }
   ],
   "source": [
    "visitors['date'].min()"
   ]
  },
  {
   "cell_type": "markdown",
   "metadata": {},
   "source": [
    "создаем массив уникальных пар значений дат и групп теста"
   ]
  },
  {
   "cell_type": "code",
   "execution_count": 39,
   "metadata": {},
   "outputs": [],
   "source": [
    "datesGroups = orders[['date','group']].drop_duplicates()\n",
    "\n",
    "# получаем агрегированные кумулятивные по дням данные о заказах \n",
    "ordersAggregated = datesGroups.apply(lambda x: orders[np.logical_and(orders['date'] <= x['date'], orders['group'] == x['group'])].agg({'date' : 'max', 'group' : 'max', 'transactionId' : 'nunique', 'visitorId' : 'nunique', 'revenue' : 'sum'}), axis=1).sort_values(by=['date','group'])\n",
    "\n",
    "# получаем агрегированные кумулятивные по дням данные о посетителях интернет-магазина \n",
    "visitorsAggregated = datesGroups.apply(lambda x: visitors[np.logical_and(visitors['date'] <= x['date'], visitors['group'] == x['group'])].agg({'date' : 'max', 'group' : 'max', 'visitors' : 'sum'}), axis=1).sort_values(by=['date','group'])\n",
    "\n",
    "# объединяем кумулятивные данные в одной таблице и присваиваем ее столбцам понятные названия\n",
    "cumulativeData = ordersAggregated.merge(visitorsAggregated, left_on=['date', 'group'], right_on=['date', 'group'])\n",
    "cumulativeData.columns = ['date', 'group', 'orders', 'buyers', 'revenue', 'visitors']"
   ]
  },
  {
   "cell_type": "markdown",
   "metadata": {},
   "source": [
    "Построим графики кумулятивной выручки по дням и группам A/B-тестирования:"
   ]
  },
  {
   "cell_type": "code",
   "execution_count": 40,
   "metadata": {},
   "outputs": [
    {
     "data": {
      "text/plain": [
       "Text(0, 0.5, 'Выручка')"
      ]
     },
     "execution_count": 40,
     "metadata": {},
     "output_type": "execute_result"
    },
    {
     "data": {
      "image/png": "[encoded data removed]",
      "text/plain": [
       "<Figure size 1296x720 with 1 Axes>"
      ]
     },
     "metadata": {
      "needs_background": "light"
     },
     "output_type": "display_data"
    }
   ],
   "source": [
    "# датафрейм с кумулятивным количеством заказов и кумулятивной выручкой по дням в группе А\n",
    "cumulativeRevenueA = cumulativeData[cumulativeData['group']=='A'][['date','revenue', 'orders']]\n",
    "\n",
    "# датафрейм с кумулятивным количеством заказов и кумулятивной выручкой по дням в группе B\n",
    "cumulativeRevenueB = cumulativeData[cumulativeData['group']=='B'][['date','revenue', 'orders']]\n",
    "plt.figure(figsize=(18,10))\n",
    "# Строим график выручки группы А\n",
    "plt.plot(cumulativeRevenueA['date'], cumulativeRevenueA['revenue'], label='A')\n",
    "\n",
    "# Строим график выручки группы B\n",
    "plt.plot(cumulativeRevenueB['date'], cumulativeRevenueB['revenue'], label='B')\n",
    "plt.legend()\n",
    "\n",
    "plt.title('Кумулятивная выручка по дням', fontsize=14)\n",
    "plt.xlabel('Дни', fontsize=12)\n",
    "plt.ylabel('Выручка', fontsize=12)\n"
   ]
  },
  {
   "cell_type": "markdown",
   "metadata": {},
   "source": [
    "График выручки для группы В в какой то момент резко растет. Это может сигнализировать о всплесках числа заказов, либо о появлении очень дорогих заказов в выборке."
   ]
  },
  {
   "cell_type": "markdown",
   "metadata": {},
   "source": [
    "Построим графики среднего чека по группам — разделим кумулятивную выручку на кумулятивное число заказов:"
   ]
  },
  {
   "cell_type": "code",
   "execution_count": 59,
   "metadata": {},
   "outputs": [
    {
     "data": {
      "text/plain": [
       "Text(0, 0.5, 'Стоимость чека')"
      ]
     },
     "execution_count": 59,
     "metadata": {},
     "output_type": "execute_result"
    },
    {
     "data": {
      "image/png": "[encoded data removed]",
      "text/plain": [
       "<Figure size 1296x720 with 1 Axes>"
      ]
     },
     "metadata": {
      "needs_background": "light"
     },
     "output_type": "display_data"
    }
   ],
   "source": [
    "plt.figure(figsize=(18,10))\n",
    "plt.plot(cumulativeRevenueA['date'], cumulativeRevenueA['revenue']/cumulativeRevenueA['orders'], label='A')\n",
    "plt.plot(cumulativeRevenueB['date'], cumulativeRevenueB['revenue']/cumulativeRevenueB['orders'], label='B')\n",
    "plt.legend()\n",
    "plt.title('Средний чек по дням', fontsize=14)\n",
    "plt.xlabel('Дни', fontsize=12)\n",
    "plt.ylabel('Стоимость чека', fontsize=12)"
   ]
  },
  {
   "cell_type": "markdown",
   "metadata": {},
   "source": [
    "Средний чек также имеет очень сильный скачок для категории В в какой то момент. Но после этого средний чек немного корректируется. Возможно, в группу B во второй половине теста попали крупные заказы (резкий всплеск на графике). Тогда ей нужно больше данных, чтобы прийти к реальному среднему чеку и установиться на его уровне."
   ]
  },
  {
   "cell_type": "markdown",
   "metadata": {},
   "source": [
    "Построим график относительного различия для среднего чека. Добавим горизонтальную ось методом axhline()"
   ]
  },
  {
   "cell_type": "code",
   "execution_count": 60,
   "metadata": {},
   "outputs": [
    {
     "data": {
      "text/plain": [
       "Text(0, 0.5, 'Относительное различие')"
      ]
     },
     "execution_count": 60,
     "metadata": {},
     "output_type": "execute_result"
    },
    {
     "data": {
      "image/png": "[encoded data removed]",
      "text/plain": [
       "<Figure size 1296x720 with 1 Axes>"
      ]
     },
     "metadata": {
      "needs_background": "light"
     },
     "output_type": "display_data"
    }
   ],
   "source": [
    "# собираем данные в одном датафрейме\n",
    "mergedCumulativeRevenue = cumulativeRevenueA.merge(cumulativeRevenueB, left_on='date', right_on='date', how='left', suffixes=['A', 'B'])\n",
    "plt.figure(figsize=(18,10))\n",
    "# cтроим отношение средних чеков\n",
    "plt.plot(mergedCumulativeRevenue['date'], (mergedCumulativeRevenue['revenueB']/mergedCumulativeRevenue['ordersB'])/(mergedCumulativeRevenue['revenueA']/mergedCumulativeRevenue['ordersA'])-1)\n",
    "\n",
    "# добавляем ось X\n",
    "plt.axhline(y=0, color='black', linestyle='--')\n",
    "plt.title('Относительное различие среднего чека', fontsize=14)\n",
    "plt.xlabel('Дни', fontsize=12)\n",
    "plt.ylabel('Относительное различие', fontsize=12)"
   ]
  },
  {
   "cell_type": "markdown",
   "metadata": {},
   "source": [
    "В нескольких точках график различия между сегментами резко «скачет». Где-то уж точно спрятались крупные заказы и выбросы!"
   ]
  },
  {
   "cell_type": "markdown",
   "metadata": {},
   "source": [
    "Аналогично проанализируем график кумулятивной конверсии. Зададим масштаб осей методом plt.axis()"
   ]
  },
  {
   "cell_type": "code",
   "execution_count": 61,
   "metadata": {},
   "outputs": [
    {
     "data": {
      "text/plain": [
       "Text(0, 0.5, 'Конверсия')"
      ]
     },
     "execution_count": 61,
     "metadata": {},
     "output_type": "execute_result"
    },
    {
     "data": {
      "image/png": "[encoded data removed]",
      "text/plain": [
       "<Figure size 1296x720 with 1 Axes>"
      ]
     },
     "metadata": {
      "needs_background": "light"
     },
     "output_type": "display_data"
    }
   ],
   "source": [
    "# считаем кумулятивную конверсию\n",
    "cumulativeData['conversion'] = cumulativeData['orders']/cumulativeData['visitors']\n",
    "\n",
    "# отделяем данные по группе A\n",
    "cumulativeDataA = cumulativeData[cumulativeData['group']=='A']\n",
    "\n",
    "# отделяем данные по группе B\n",
    "cumulativeDataB = cumulativeData[cumulativeData['group']=='B']\n",
    "\n",
    "# строим графики\n",
    "plt.figure(figsize=(18,10))\n",
    "plt.plot(cumulativeDataA['date'], cumulativeDataA['conversion'], label='A')\n",
    "plt.plot(cumulativeDataB['date'], cumulativeDataB['conversion'], label='B')\n",
    "plt.legend()\n",
    "\n",
    "# задаем масштаб осей\n",
    "plt.axis([pd.to_datetime(\"2019-08-01\"), pd.to_datetime('2019-08-31'), 0.0275, 0.04]) \n",
    "plt.title('Кумулятивная конверсия по дням', fontsize=14)\n",
    "plt.xlabel('Дни', fontsize=12)\n",
    "plt.ylabel('Конверсия', fontsize=12)"
   ]
  },
  {
   "cell_type": "markdown",
   "metadata": {},
   "source": [
    "Конверсия у группы В заметно лучше. Практически в самом начале эксперимента конверсия группы А пошла на спад, в то время как группы В взлетела. После этого этот показатель без резских \"движений\" держался на примерно одном уровне"
   ]
  },
  {
   "cell_type": "markdown",
   "metadata": {},
   "source": [
    "Построим график относительного различия кумулятивных конверсий:"
   ]
  },
  {
   "cell_type": "code",
   "execution_count": 62,
   "metadata": {},
   "outputs": [
    {
     "data": {
      "text/plain": [
       "Text(0, 0.5, 'Относительное различие')"
      ]
     },
     "execution_count": 62,
     "metadata": {},
     "output_type": "execute_result"
    },
    {
     "data": {
      "image/png": "[encoded data removed]",
      "text/plain": [
       "<Figure size 1296x720 with 1 Axes>"
      ]
     },
     "metadata": {
      "needs_background": "light"
     },
     "output_type": "display_data"
    }
   ],
   "source": [
    "mergedCumulativeConversions = cumulativeDataA[['date','conversion']].merge(cumulativeDataB[['date','conversion']], left_on='date', right_on='date', how='left', suffixes=['A', 'B'])\n",
    "plt.figure(figsize=(18,10))\n",
    "plt.plot(mergedCumulativeConversions['date'], mergedCumulativeConversions['conversionB']/mergedCumulativeConversions['conversionA']-1, label=\"Относительный прирост конверсии группы B относительно группы A\")\n",
    "plt.legend()\n",
    "\n",
    "plt.axhline(y=0, color='black', linestyle='--')\n",
    "plt.axhline(y=-0.1, color='grey', linestyle='--')\n",
    "plt.axis([pd.to_datetime(\"2019-08-01\"), pd.to_datetime('2019-08-31'), -0.2, 0.5]) \n",
    "plt.title('Относительное различие кумулятивной конверсии', fontsize=14)\n",
    "plt.xlabel('Дни', fontsize=12)\n",
    "plt.ylabel('Относительное различие', fontsize=12)"
   ]
  },
  {
   "cell_type": "markdown",
   "metadata": {},
   "source": [
    "В начале теста группа B немного проигрывала группе A, затем вырвалась вперёд. У конверсии был сильный рост относительно группы А. Затем он находился в одном канале.\n",
    "В целом конверсия группы В заметно лучше, но сейчас делать какие-либо выводы по тесту нельзя. Впрочем, сперва стоит проанализировать аномалии, возможно, они изменят картину."
   ]
  },
  {
   "cell_type": "markdown",
   "metadata": {},
   "source": [
    "## Анализ выбросов и всплесков: крайние значения данных"
   ]
  },
  {
   "cell_type": "markdown",
   "metadata": {},
   "source": [
    "Построим гистрограмму распределения количества заказов на одного пользователя."
   ]
  },
  {
   "cell_type": "code",
   "execution_count": 70,
   "metadata": {},
   "outputs": [
    {
     "data": {
      "text/plain": [
       "Text(0, 0.5, 'Количесвто пользователей')"
      ]
     },
     "execution_count": 70,
     "metadata": {},
     "output_type": "execute_result"
    },
    {
     "data": {
      "image/png": "[encoded data removed]",
      "text/plain": [
       "<Figure size 864x504 with 1 Axes>"
      ]
     },
     "metadata": {
      "needs_background": "light"
     },
     "output_type": "display_data"
    }
   ],
   "source": [
    "ordersByUsers = (\n",
    "    orders.groupby('visitorId', as_index=False)\n",
    "    .agg({'transactionId': 'nunique'})\n",
    ")\n",
    "ordersByUsers.columns = ['visitorId', 'orders']\n",
    "plt.figure(figsize=(12,7))\n",
    "plt.hist(ordersByUsers['orders']) \n",
    "plt.title('Распределения количества заказов на одного пользователя', fontsize=14)\n",
    "plt.xlabel('Количесвто заказов', fontsize=12)\n",
    "plt.ylabel('Количесвто пользователей', fontsize=12)"
   ]
  },
  {
   "cell_type": "markdown",
   "metadata": {},
   "source": [
    "Большинство покупателей заказывали только один раз. Однако доля пользователей с 2-3 заказами тоже значительна."
   ]
  },
  {
   "cell_type": "markdown",
   "metadata": {},
   "source": [
    "Построим точечную диаграмму числа заказов на одного пользователя:"
   ]
  },
  {
   "cell_type": "code",
   "execution_count": 71,
   "metadata": {},
   "outputs": [
    {
     "data": {
      "text/plain": [
       "Text(0, 0.5, 'Количесвто заказов')"
      ]
     },
     "execution_count": 71,
     "metadata": {},
     "output_type": "execute_result"
    },
    {
     "data": {
      "image/png": "[encoded data removed]",
      "text/plain": [
       "<Figure size 864x504 with 1 Axes>"
      ]
     },
     "metadata": {
      "needs_background": "light"
     },
     "output_type": "display_data"
    }
   ],
   "source": [
    "x_values = pd.Series(range(0,len(ordersByUsers)))\n",
    "plt.figure(figsize=(12,7))\n",
    "plt.scatter(x_values, ordersByUsers['orders']) \n",
    "plt.title('Точечная диаграмма числа заказов на одного пользователя', fontsize=14)\n",
    "plt.xlabel('Количесвто пользователей', fontsize=12)\n",
    "plt.ylabel('Количесвто заказов', fontsize=12)"
   ]
  },
  {
   "cell_type": "markdown",
   "metadata": {},
   "source": [
    "Выводы подтверждаются: много пользователей с 2-4 заказами. Их точная доля не ясна — непонятно, считать их аномалиями или нет. Разумно выбрать 4 заказа на одного пользователя за нижнюю границу числа заказов, и отсеять аномальных пользователей по ней"
   ]
  },
  {
   "cell_type": "markdown",
   "metadata": {},
   "source": [
    "Посчитаем выборочные перцентили количества заказов на одного пользователя:"
   ]
  },
  {
   "cell_type": "code",
   "execution_count": 47,
   "metadata": {},
   "outputs": [
    {
     "data": {
      "text/plain": [
       "array([2., 4.])"
      ]
     },
     "execution_count": 47,
     "metadata": {},
     "output_type": "execute_result"
    }
   ],
   "source": [
    "np.percentile(ordersByUsers['orders'], [95, 99]) "
   ]
  },
  {
   "cell_type": "markdown",
   "metadata": {},
   "source": [
    "Не более 5% пользователей оформляли 2 заказа. И 1% пользователей заказывали 4 раза."
   ]
  },
  {
   "cell_type": "markdown",
   "metadata": {},
   "source": [
    "Изучим гистограмму распределения стоимостей заказов:"
   ]
  },
  {
   "cell_type": "code",
   "execution_count": 72,
   "metadata": {},
   "outputs": [
    {
     "data": {
      "text/plain": [
       "Text(0, 0.5, 'Стоимость заказов')"
      ]
     },
     "execution_count": 72,
     "metadata": {},
     "output_type": "execute_result"
    },
    {
     "data": {
      "image/png": "[encoded data removed]",
      "text/plain": [
       "<Figure size 864x504 with 1 Axes>"
      ]
     },
     "metadata": {
      "needs_background": "light"
     },
     "output_type": "display_data"
    }
   ],
   "source": [
    "x_values = pd.Series(range(0,len(orders['revenue'])))\n",
    "plt.figure(figsize=(12,7))\n",
    "plt.scatter(x_values, orders['revenue'])\n",
    "plt.title('Точечная диаграмма стоимости заказов', fontsize=14)\n",
    "plt.xlabel('Количесвто пользователей', fontsize=12)\n",
    "plt.ylabel('Стоимость заказов', fontsize=12)"
   ]
  },
  {
   "cell_type": "markdown",
   "metadata": {},
   "source": [
    "На графике рассеяния мы видим аномально дорогой заказ, посмотри как будет выглядить график без него (он явно мешает наблюдать картину рассеяния, так как отличается в разы. В дальнейших расчетах с \"сырым\" данными мы будем его учитывать.)"
   ]
  },
  {
   "cell_type": "code",
   "execution_count": 49,
   "metadata": {},
   "outputs": [],
   "source": [
    "orders_new = orders.query('revenue != revenue.max()')"
   ]
  },
  {
   "cell_type": "code",
   "execution_count": 73,
   "metadata": {},
   "outputs": [
    {
     "data": {
      "text/plain": [
       "Text(0, 0.5, 'Стоимость заказов')"
      ]
     },
     "execution_count": 73,
     "metadata": {},
     "output_type": "execute_result"
    },
    {
     "data": {
      "image/png": "[encoded data removed]",
      "text/plain": [
       "<Figure size 864x504 with 1 Axes>"
      ]
     },
     "metadata": {
      "needs_background": "light"
     },
     "output_type": "display_data"
    }
   ],
   "source": [
    "x_values = pd.Series(range(0,len(orders_new['revenue'])))\n",
    "plt.figure(figsize=(12,7))\n",
    "plt.scatter(x_values, orders_new['revenue']) \n",
    "plt.title('Точечная диаграмма стоимости заказов', fontsize=14)\n",
    "plt.xlabel('Количесвто пользователей', fontsize=12)\n",
    "plt.ylabel('Стоимость заказов', fontsize=12)"
   ]
  },
  {
   "cell_type": "code",
   "execution_count": 75,
   "metadata": {},
   "outputs": [
    {
     "data": {
      "text/plain": [
       "Text(0, 0.5, 'Количесвто пользователей')"
      ]
     },
     "execution_count": 75,
     "metadata": {},
     "output_type": "execute_result"
    },
    {
     "data": {
      "image/png": "[encoded data removed]",
      "text/plain": [
       "<Figure size 864x504 with 1 Axes>"
      ]
     },
     "metadata": {
      "needs_background": "light"
     },
     "output_type": "display_data"
    }
   ],
   "source": [
    "plt.figure(figsize=(12,7))\n",
    "plt.hist(orders_new['revenue'])\n",
    "plt.title('Распределение стоимости заказов', fontsize=14)\n",
    "plt.xlabel('Стоимость заказов', fontsize=12)\n",
    "plt.ylabel('Количесвто пользователей', fontsize=12)"
   ]
  },
  {
   "cell_type": "markdown",
   "metadata": {},
   "source": [
    "В данных явно есть заказы дороже 50 000 — например, около 80 000, 100 000 и 200 000 рублей. Однако большинство всё-таки имеет меньшую выручку. По графику можно выбрать границу аномальных заказов между 30 000 и 60 000 рублей. Однако принято отсеивать от 1% до 5% наблюдений с крайними значениями."
   ]
  },
  {
   "cell_type": "markdown",
   "metadata": {},
   "source": [
    "Посчитаем 95-й и 99-й перцентили количества заказов на пользователя. Отсеим аномальных пользователей по значению близскому к 99% перцентилю: 54000 рублей."
   ]
  },
  {
   "cell_type": "code",
   "execution_count": 52,
   "metadata": {},
   "outputs": [
    {
     "data": {
      "text/plain": [
       "array([28000. , 58233.2])"
      ]
     },
     "execution_count": 52,
     "metadata": {},
     "output_type": "execute_result"
    }
   ],
   "source": [
    "np.percentile(orders['revenue'], [95, 99])"
   ]
  },
  {
   "cell_type": "markdown",
   "metadata": {},
   "source": [
    "Не более 5% заказов дороже 28000 рублей и не более 1% дороже 58233.2 рублей."
   ]
  },
  {
   "cell_type": "markdown",
   "metadata": {},
   "source": [
    "## Анализ A/B-теста"
   ]
  },
  {
   "cell_type": "markdown",
   "metadata": {},
   "source": [
    "Посчитаем статистическую значимость различий в конверсии и среднем чеке между группами по «сырым» данным — без удаления аномальных пользователей.\n",
    "Сформулируем гипотезы. Нулевая: различий в конверсии между группами нет. Альтернативная: различия в конверсии между группами есть.\n",
    "Начнём с подготовки данных."
   ]
  },
  {
   "cell_type": "code",
   "execution_count": 53,
   "metadata": {},
   "outputs": [
    {
     "name": "stdout",
     "output_type": "stream",
     "text": [
      "        date  ordersPerDateA  revenuePerDateA  ordersPerDateB  \\\n",
      "0 2019-08-01              24           148579              21   \n",
      "1 2019-08-02              20            93822              24   \n",
      "2 2019-08-03              24           112473              16   \n",
      "3 2019-08-04              16            70825              17   \n",
      "4 2019-08-05              25           124218              23   \n",
      "\n",
      "   revenuePerDateB  ordersCummulativeA  revenueCummulativeA  \\\n",
      "0           101217                  24               148579   \n",
      "1           165531                  44               242401   \n",
      "2           114248                  68               354874   \n",
      "3           108571                  84               425699   \n",
      "4            92428                 109               549917   \n",
      "\n",
      "   ordersCummulativeB  revenueCummulativeB  visitorsPerDateA  \\\n",
      "0                  21               101217               719   \n",
      "1                  45               266748               619   \n",
      "2                  61               380996               507   \n",
      "3                  78               489567               717   \n",
      "4                 101               581995               756   \n",
      "\n",
      "   visitorsPerDateB  visitorsCummulativeA  visitorsCummulativeB  \n",
      "0               713                   719                   713  \n",
      "1               581                  1338                  1294  \n",
      "2               509                  1845                  1803  \n",
      "3               770                  2562                  2573  \n",
      "4               707                  3318                  3280  \n"
     ]
    }
   ],
   "source": [
    "visitorsADaily = visitors[visitors['group'] == 'A'][['date', 'visitors']]\n",
    "visitorsADaily.columns = ['date', 'visitorsPerDateA']\n",
    "\n",
    "visitorsACummulative = visitorsADaily.apply(\n",
    "    lambda x: visitorsADaily[visitorsADaily['date'] <= x['date']].agg(\n",
    "        {'date': 'max', 'visitorsPerDateA': 'sum'}\n",
    "    ),\n",
    "    axis=1,\n",
    ")\n",
    "visitorsACummulative.columns = ['date', 'visitorsCummulativeA']\n",
    "\n",
    "visitorsBDaily = visitors[visitors['group'] == 'B'][['date', 'visitors']]\n",
    "visitorsBDaily.columns = ['date', 'visitorsPerDateB']\n",
    "\n",
    "visitorsBCummulative = visitorsBDaily.apply(\n",
    "    lambda x: visitorsBDaily[visitorsBDaily['date'] <= x['date']].agg(\n",
    "        {'date': 'max', 'visitorsPerDateB': 'sum'}\n",
    "    ),\n",
    "    axis=1,\n",
    ")\n",
    "visitorsBCummulative.columns = ['date', 'visitorsCummulativeB']\n",
    "\n",
    "ordersADaily = (\n",
    "    orders[orders['group'] == 'A'][['date', 'transactionId', 'visitorId', 'revenue']]\n",
    "    .groupby('date', as_index=False)\n",
    "    .agg({'transactionId': pd.Series.nunique, 'revenue': 'sum'})\n",
    ")\n",
    "ordersADaily.columns = ['date', 'ordersPerDateA', 'revenuePerDateA']\n",
    "\n",
    "ordersACummulative = ordersADaily.apply(\n",
    "    lambda x: ordersADaily[ordersADaily['date'] <= x['date']].agg(\n",
    "        {'date': 'max', 'ordersPerDateA': 'sum', 'revenuePerDateA': 'sum'}\n",
    "    ),\n",
    "    axis=1,\n",
    ").sort_values(by=['date'])\n",
    "ordersACummulative.columns = [\n",
    "    'date',\n",
    "    'ordersCummulativeA',\n",
    "    'revenueCummulativeA',\n",
    "]\n",
    "\n",
    "ordersBDaily = (\n",
    "    orders[orders['group'] == 'B'][['date', 'transactionId', 'visitorId', 'revenue']]\n",
    "    .groupby('date', as_index=False)\n",
    "    .agg({'transactionId': pd.Series.nunique, 'revenue': 'sum'})\n",
    ")\n",
    "ordersBDaily.columns = ['date', 'ordersPerDateB', 'revenuePerDateB']\n",
    "\n",
    "ordersBCummulative = ordersBDaily.apply(\n",
    "    lambda x: ordersBDaily[ordersBDaily['date'] <= x['date']].agg(\n",
    "        {'date': 'max', 'ordersPerDateB': 'sum', 'revenuePerDateB': 'sum'}\n",
    "    ),\n",
    "    axis=1,\n",
    ").sort_values(by=['date'])\n",
    "ordersBCummulative.columns = [\n",
    "    'date',\n",
    "    'ordersCummulativeB',\n",
    "    'revenueCummulativeB',\n",
    "]\n",
    "\n",
    "data = (\n",
    "    ordersADaily.merge(\n",
    "        ordersBDaily, left_on='date', right_on='date', how='left'\n",
    "    )\n",
    "    .merge(ordersACummulative, left_on='date', right_on='date', how='left')\n",
    "    .merge(ordersBCummulative, left_on='date', right_on='date', how='left')\n",
    "    .merge(visitorsADaily, left_on='date', right_on='date', how='left')\n",
    "    .merge(visitorsBDaily, left_on='date', right_on='date', how='left')\n",
    "    .merge(visitorsACummulative, left_on='date', right_on='date', how='left')\n",
    "    .merge(visitorsBCummulative, left_on='date', right_on='date', how='left')\n",
    ")\n",
    "\n",
    "print(data.head(5)) "
   ]
  },
  {
   "cell_type": "code",
   "execution_count": 54,
   "metadata": {},
   "outputs": [
    {
     "data": {
      "text/plain": [
       "'0.017'"
      ]
     },
     "metadata": {},
     "output_type": "display_data"
    },
    {
     "data": {
      "text/plain": [
       "'0.138'"
      ]
     },
     "metadata": {},
     "output_type": "display_data"
    }
   ],
   "source": [
    "ordersByUsersA = (\n",
    "    orders[orders['group'] == 'A']\n",
    "    .groupby('visitorId', as_index=False)\n",
    "    .agg({'transactionId': pd.Series.nunique})\n",
    ")\n",
    "ordersByUsersA.columns = ['visitorId', 'orders']\n",
    "\n",
    "ordersByUsersB = (\n",
    "    orders[orders['group'] == 'B']\n",
    "    .groupby('visitorId', as_index=False)\n",
    "    .agg({'transactionId': pd.Series.nunique})\n",
    ")\n",
    "ordersByUsersB.columns = ['visitorId', 'orders']\n",
    "\n",
    "sampleA = pd.concat(\n",
    "    [\n",
    "        ordersByUsersA['orders'],\n",
    "        pd.Series(\n",
    "            0,\n",
    "            index=np.arange(\n",
    "                data['visitorsPerDateA'].sum() - len(ordersByUsersA['orders'])\n",
    "            ),\n",
    "            name='orders',\n",
    "        ),\n",
    "    ],\n",
    "    axis=0,\n",
    ")\n",
    "\n",
    "sampleB = pd.concat(\n",
    "    [\n",
    "        ordersByUsersB['orders'],\n",
    "        pd.Series(\n",
    "            0,\n",
    "            index=np.arange(\n",
    "                data['visitorsPerDateB'].sum() - len(ordersByUsersB['orders'])\n",
    "            ),\n",
    "            name='orders',\n",
    "        ),\n",
    "    ],\n",
    "    axis=0,\n",
    ")\n",
    "\n",
    "display(\"{0:.3f}\".format(stats.mannwhitneyu(sampleA, sampleB)[1]))\n",
    "\n",
    "display(\"{0:.3f}\".format(sampleB.mean() / sampleA.mean() - 1))"
   ]
  },
  {
   "cell_type": "markdown",
   "metadata": {},
   "source": [
    "Вывод: По «сырым» данным различия в конверсии группы A и B есть.\n",
    "Первое число — p-value = 0.017 меньше 0.05. Значит, нулевую гипотезу о том, что статистически значимых различий в конверсии между группами нет, отвергаем. Относительный выигрыш группы B равен 13.8% — второе число в выводе."
   ]
  },
  {
   "cell_type": "markdown",
   "metadata": {},
   "source": [
    "Теперь проверим статистическую значимость различий в среднем чеке между сегментами. Нулевая гипотеза: различий в среднем чеке между группами нет. Альтернативная гипотеза: различия в среднем чеке между группами есть.\n",
    "Чтобы рассчитать статистическую значимость различий в среднем чеке, передадим критерию mannwhitneyu() данные о выручке с заказов.\n",
    "А ещё найдём относительные различия в среднем чеке между группами:"
   ]
  },
  {
   "cell_type": "code",
   "execution_count": 55,
   "metadata": {},
   "outputs": [
    {
     "data": {
      "text/plain": [
       "'0.729'"
      ]
     },
     "metadata": {},
     "output_type": "display_data"
    },
    {
     "data": {
      "text/plain": [
       "'0.259'"
      ]
     },
     "metadata": {},
     "output_type": "display_data"
    }
   ],
   "source": [
    "display('{0:.3f}'.format(stats.mannwhitneyu(orders[orders['group']=='A']['revenue'], orders[orders['group']=='B']['revenue'])[1]))\n",
    "display('{0:.3f}'.format(orders[orders['group']=='B']['revenue'].mean()/orders[orders['group']=='A']['revenue'].mean()-1))"
   ]
  },
  {
   "cell_type": "markdown",
   "metadata": {},
   "source": [
    "P-value значительно больше 0.05. Значит, причин отвергать нулевую гипотезу и считать, что в среднем чеке есть различия, нет. Впрочем, средний чек группы B значительно выше среднего чека группы A.\n",
    "Напомню, что 95-й и 99-й перцентили средних чеков равны 28 000 и 58233.2 рублям. А 95-й и 99-й перцентили количества заказов на одного пользователя равны 2 и 4 заказа на пользователя."
   ]
  },
  {
   "cell_type": "markdown",
   "metadata": {},
   "source": [
    "Примем за аномальных пользователей тех, кто совершил от 5 заказов или совершил заказ дороже 54 000 рублей. Так мы уберём 5% пользователей с наибольшим числом заказов и от 1% до 5% пользователей с дорогими заказами. Сделаем срезы пользователей с числом заказов больше 4 — usersWithManyOrders и пользователей, совершивших заказы дороже 54 000 — usersWithExpensiveOrders. Объединим их в таблице abnormalUsers.\n",
    "Узнаем, сколько всего аномальных пользователей методом shape()."
   ]
  },
  {
   "cell_type": "code",
   "execution_count": 56,
   "metadata": {},
   "outputs": [
    {
     "data": {
      "text/plain": [
       "1099     148427295\n",
       "949      887908475\n",
       "744      888512513\n",
       "1103    1164614297\n",
       "1136    1307669133\n",
       "Name: visitorId, dtype: int64"
      ]
     },
     "metadata": {},
     "output_type": "display_data"
    },
    {
     "data": {
      "text/plain": [
       "15"
      ]
     },
     "metadata": {},
     "output_type": "display_data"
    }
   ],
   "source": [
    "level_orders = 4\n",
    "level_revenue = 54000\n",
    "usersWithManyOrders = pd.concat(\n",
    "    [\n",
    "        ordersByUsersA[ordersByUsersA['orders'] > level_orders]['visitorId'],\n",
    "        ordersByUsersB[ordersByUsersB['orders'] > level_orders]['visitorId'],\n",
    "    ],\n",
    "    axis=0,\n",
    ")\n",
    "usersWithExpensiveOrders = orders[orders['revenue'] > level_revenue]['visitorId']\n",
    "abnormalUsers = (\n",
    "    pd.concat([usersWithManyOrders, usersWithExpensiveOrders], axis=0)\n",
    "    .drop_duplicates()\n",
    "    .sort_values()\n",
    ")\n",
    "display(abnormalUsers.head(5))\n",
    "display(abnormalUsers.shape[0]) "
   ]
  },
  {
   "cell_type": "markdown",
   "metadata": {},
   "source": [
    "Всего 15 аномальных пользователей.\n",
    "Узнаем, как их действия повлияли на результаты теста. Посчитаем статистическую значимость различий в конверсии между группами теста по очищенным данным. Сначала подготовим выборки количества заказов по пользователям по группам теста:"
   ]
  },
  {
   "cell_type": "markdown",
   "metadata": {},
   "source": [
    "Узнаем, как их действия повлияли на результаты теста. Посчитаем статистическую значимость различий в конверсии между группами теста по очищенным данным. Сначала подготовим выборки количества заказов по пользователям по группам теста:"
   ]
  },
  {
   "cell_type": "code",
   "execution_count": 57,
   "metadata": {},
   "outputs": [
    {
     "data": {
      "text/plain": [
       "'0.014'"
      ]
     },
     "metadata": {},
     "output_type": "display_data"
    },
    {
     "data": {
      "text/plain": [
       "'0.153'"
      ]
     },
     "metadata": {},
     "output_type": "display_data"
    }
   ],
   "source": [
    "sampleAFiltered = pd.concat(\n",
    "    [\n",
    "        ordersByUsersA[\n",
    "            np.logical_not(ordersByUsersA['visitorId'].isin(abnormalUsers))\n",
    "        ]['orders'],\n",
    "        pd.Series(\n",
    "            0,\n",
    "            index=np.arange(\n",
    "                data['visitorsPerDateA'].sum() - len(ordersByUsersA['orders'])\n",
    "            ),\n",
    "            name='orders',\n",
    "        ),\n",
    "    ],\n",
    "    axis=0,\n",
    ")\n",
    "\n",
    "sampleBFiltered = pd.concat(\n",
    "    [\n",
    "        ordersByUsersB[\n",
    "            np.logical_not(ordersByUsersB['visitorId'].isin(abnormalUsers))\n",
    "        ]['orders'],\n",
    "        pd.Series(\n",
    "            0,\n",
    "            index=np.arange(\n",
    "                data['visitorsPerDateB'].sum() - len(ordersByUsersB['orders'])\n",
    "            ),\n",
    "            name='orders',\n",
    "        ),\n",
    "    ],\n",
    "    axis=0,\n",
    ") \n",
    "display('{0:.3f}'.format(stats.mannwhitneyu(sampleAFiltered, sampleBFiltered)[1]))\n",
    "display('{0:.3f}'.format(sampleBFiltered.mean()/sampleAFiltered.mean()-1))"
   ]
  },
  {
   "cell_type": "markdown",
   "metadata": {},
   "source": [
    "Результаты по конверсии практически не изменились. Относительный выигрыш группы B прибавился на 2 процента."
   ]
  },
  {
   "cell_type": "markdown",
   "metadata": {},
   "source": [
    "Проверим результаты по среднему чеку."
   ]
  },
  {
   "cell_type": "code",
   "execution_count": 58,
   "metadata": {},
   "outputs": [
    {
     "name": "stdout",
     "output_type": "stream",
     "text": [
      "0.851\n",
      "-0.006\n"
     ]
    }
   ],
   "source": [
    "print(\n",
    "    '{0:.3f}'.format(\n",
    "        stats.mannwhitneyu(\n",
    "            orders[\n",
    "                np.logical_and(\n",
    "                    orders['group'] == 'A',\n",
    "                    np.logical_not(orders['visitorId'].isin(abnormalUsers)),\n",
    "                )\n",
    "            ]['revenue'],\n",
    "            orders[\n",
    "                np.logical_and(\n",
    "                    orders['group'] == 'B',\n",
    "                    np.logical_not(orders['visitorId'].isin(abnormalUsers)),\n",
    "                )\n",
    "            ]['revenue'],\n",
    "        )[1]\n",
    "    )\n",
    ")\n",
    "\n",
    "print(\n",
    "    \"{0:.3f}\".format(\n",
    "        orders[\n",
    "            np.logical_and(\n",
    "                orders['group'] == 'B',\n",
    "                np.logical_not(orders['visitorId'].isin(abnormalUsers)),\n",
    "            )\n",
    "        ]['revenue'].mean()\n",
    "        / orders[\n",
    "            np.logical_and(\n",
    "                orders['group'] == 'A',\n",
    "                np.logical_not(orders['visitorId'].isin(abnormalUsers)),\n",
    "            )\n",
    "        ]['revenue'].mean()\n",
    "        - 1\n",
    "    )\n",
    ")"
   ]
  },
  {
   "cell_type": "markdown",
   "metadata": {},
   "source": [
    "P-value увеличился, но и разница между сегментами сократилась с 25% практически до 0 %\n",
    "Хотя общие выводы по результатам теста не изменились, такой пример хорошо показывает, как сильно аномалии могут влиять на результаты A/B-теста."
   ]
  },
  {
   "cell_type": "markdown",
   "metadata": {},
   "source": [
    "# Вывод"
   ]
  },
  {
   "cell_type": "markdown",
   "metadata": {},
   "source": [
    "По нашему А/В тесту мы можем сделать следующие выводы:\n",
    "- Есть статистически значимое различие по конверсии между группами по «сырым» и по данным после фильтрации аномалий;\n",
    "- Нет статистически значимого различия по среднему чеку между группами ни по «сырым», ни по данным после фильтрации аномалий;\n",
    "- График различия конверсии между группами сообщает, что результаты группы B намного лучше группы A, есть значительная тенденция к улучшению;\n",
    "- График различия среднего чека говорит о том, что результаты группы B лучше по сравнению с группой А:\n",
    "\n",
    "Исходя из обнаруженных фактов, тест следует признать успешным. Сегмент В действительно проявляет себя лучше как по конверсии, так и по среднему чеку заказа."
   ]
  }
 ],
 "metadata": {
  "ExecuteTimeLog": [
   {
    "duration": 1881,
    "start_time": "2022-05-03T19:25:53.820Z"
   },
   {
    "duration": 18,
    "start_time": "2022-05-03T19:25:55.703Z"
   },
   {
    "duration": 37,
    "start_time": "2022-05-03T19:25:55.723Z"
   },
   {
    "duration": 12,
    "start_time": "2022-05-03T19:26:04.190Z"
   },
   {
    "duration": 12,
    "start_time": "2022-05-03T19:26:05.879Z"
   },
   {
    "duration": 11,
    "start_time": "2022-05-03T19:30:23.640Z"
   },
   {
    "duration": 5,
    "start_time": "2022-05-03T19:31:06.742Z"
   },
   {
    "duration": 21,
    "start_time": "2022-05-03T19:31:06.751Z"
   },
   {
    "duration": 14,
    "start_time": "2022-05-03T19:31:06.775Z"
   },
   {
    "duration": 10,
    "start_time": "2022-05-03T19:31:06.792Z"
   },
   {
    "duration": 49,
    "start_time": "2022-05-03T19:31:06.805Z"
   },
   {
    "duration": 6,
    "start_time": "2022-05-03T19:32:29.680Z"
   },
   {
    "duration": 22,
    "start_time": "2022-05-03T19:32:29.690Z"
   },
   {
    "duration": 17,
    "start_time": "2022-05-03T19:32:29.715Z"
   },
   {
    "duration": 7,
    "start_time": "2022-05-03T19:32:29.735Z"
   },
   {
    "duration": 29,
    "start_time": "2022-05-03T19:32:29.745Z"
   },
   {
    "duration": 7,
    "start_time": "2022-05-03T19:32:29.777Z"
   },
   {
    "duration": 18,
    "start_time": "2022-05-03T19:32:29.786Z"
   },
   {
    "duration": 17,
    "start_time": "2022-05-03T19:33:24.989Z"
   },
   {
    "duration": 19,
    "start_time": "2022-05-03T19:33:41.950Z"
   },
   {
    "duration": 80,
    "start_time": "2022-05-06T15:38:14.827Z"
   },
   {
    "duration": 1785,
    "start_time": "2022-05-06T15:38:27.941Z"
   },
   {
    "duration": 15,
    "start_time": "2022-05-06T15:38:32.396Z"
   },
   {
    "duration": 17,
    "start_time": "2022-05-06T15:38:36.407Z"
   },
   {
    "duration": 10,
    "start_time": "2022-05-06T15:38:40.666Z"
   },
   {
    "duration": 18,
    "start_time": "2022-05-06T15:38:43.443Z"
   },
   {
    "duration": 4,
    "start_time": "2022-05-06T15:45:25.319Z"
   },
   {
    "duration": 12,
    "start_time": "2022-05-06T15:45:27.919Z"
   },
   {
    "duration": 15,
    "start_time": "2022-05-06T15:45:29.129Z"
   },
   {
    "duration": 6,
    "start_time": "2022-05-06T15:45:29.290Z"
   },
   {
    "duration": 15,
    "start_time": "2022-05-06T15:45:29.298Z"
   },
   {
    "duration": 5,
    "start_time": "2022-05-06T15:45:29.340Z"
   },
   {
    "duration": 23,
    "start_time": "2022-05-06T15:45:29.348Z"
   },
   {
    "duration": 561,
    "start_time": "2022-05-06T15:45:29.374Z"
   },
   {
    "duration": 0,
    "start_time": "2022-05-06T15:45:29.937Z"
   },
   {
    "duration": 0,
    "start_time": "2022-05-06T15:45:29.939Z"
   },
   {
    "duration": 6,
    "start_time": "2022-05-06T15:49:15.363Z"
   },
   {
    "duration": 4,
    "start_time": "2022-05-06T15:49:21.647Z"
   },
   {
    "duration": 16,
    "start_time": "2022-05-06T15:49:21.967Z"
   },
   {
    "duration": 13,
    "start_time": "2022-05-06T15:49:22.246Z"
   },
   {
    "duration": 6,
    "start_time": "2022-05-06T15:49:22.469Z"
   },
   {
    "duration": 17,
    "start_time": "2022-05-06T15:49:22.546Z"
   },
   {
    "duration": 5,
    "start_time": "2022-05-06T15:49:22.607Z"
   },
   {
    "duration": 13,
    "start_time": "2022-05-06T15:49:22.688Z"
   },
   {
    "duration": 30,
    "start_time": "2022-05-06T15:49:22.787Z"
   },
   {
    "duration": 584,
    "start_time": "2022-05-06T15:49:22.868Z"
   },
   {
    "duration": 0,
    "start_time": "2022-05-06T15:49:23.455Z"
   },
   {
    "duration": 0,
    "start_time": "2022-05-06T15:49:23.456Z"
   },
   {
    "duration": 460,
    "start_time": "2022-05-06T15:50:37.325Z"
   },
   {
    "duration": 20,
    "start_time": "2022-05-06T15:51:01.068Z"
   },
   {
    "duration": 21,
    "start_time": "2022-05-06T15:51:06.643Z"
   },
   {
    "duration": 6,
    "start_time": "2022-05-06T16:23:54.522Z"
   },
   {
    "duration": 14,
    "start_time": "2022-05-06T16:23:54.533Z"
   },
   {
    "duration": 17,
    "start_time": "2022-05-06T16:23:54.550Z"
   },
   {
    "duration": 8,
    "start_time": "2022-05-06T16:23:54.570Z"
   },
   {
    "duration": 13,
    "start_time": "2022-05-06T16:23:54.581Z"
   },
   {
    "duration": 6,
    "start_time": "2022-05-06T16:23:54.597Z"
   },
   {
    "duration": 53,
    "start_time": "2022-05-06T16:23:54.605Z"
   },
   {
    "duration": 31,
    "start_time": "2022-05-06T16:23:54.661Z"
   },
   {
    "duration": 19,
    "start_time": "2022-05-06T16:23:54.695Z"
   },
   {
    "duration": 14,
    "start_time": "2022-05-06T16:23:54.717Z"
   },
   {
    "duration": 553,
    "start_time": "2022-05-06T16:23:54.733Z"
   },
   {
    "duration": 0,
    "start_time": "2022-05-06T16:23:55.289Z"
   },
   {
    "duration": 0,
    "start_time": "2022-05-06T16:23:55.290Z"
   },
   {
    "duration": 530,
    "start_time": "2022-05-06T16:24:17.122Z"
   },
   {
    "duration": 472,
    "start_time": "2022-05-06T16:24:28.236Z"
   },
   {
    "duration": 536,
    "start_time": "2022-05-06T16:24:59.872Z"
   },
   {
    "duration": 19,
    "start_time": "2022-05-06T16:25:32.755Z"
   },
   {
    "duration": 17,
    "start_time": "2022-05-06T16:25:45.767Z"
   },
   {
    "duration": 7,
    "start_time": "2022-05-06T16:27:44.785Z"
   },
   {
    "duration": 13,
    "start_time": "2022-05-06T16:27:53.204Z"
   },
   {
    "duration": 518,
    "start_time": "2022-05-06T16:28:05.750Z"
   },
   {
    "duration": 488,
    "start_time": "2022-05-06T16:28:38.632Z"
   },
   {
    "duration": 497,
    "start_time": "2022-05-06T16:29:09.888Z"
   },
   {
    "duration": 557,
    "start_time": "2022-05-06T16:35:35.244Z"
   },
   {
    "duration": 717,
    "start_time": "2022-05-06T16:35:54.053Z"
   },
   {
    "duration": 653,
    "start_time": "2022-05-06T16:35:57.733Z"
   },
   {
    "duration": 6,
    "start_time": "2022-05-06T16:36:14.546Z"
   },
   {
    "duration": 455,
    "start_time": "2022-05-06T16:36:19.783Z"
   },
   {
    "duration": 277,
    "start_time": "2022-05-06T16:36:22.789Z"
   },
   {
    "duration": 413,
    "start_time": "2022-05-06T16:40:29.212Z"
   },
   {
    "duration": 433,
    "start_time": "2022-05-06T16:40:29.628Z"
   },
   {
    "duration": 509,
    "start_time": "2022-05-06T16:42:29.137Z"
   },
   {
    "duration": 6,
    "start_time": "2022-05-06T16:47:34.024Z"
   },
   {
    "duration": 7,
    "start_time": "2022-05-06T16:48:22.625Z"
   },
   {
    "duration": 455,
    "start_time": "2022-05-06T16:49:10.986Z"
   },
   {
    "duration": 319,
    "start_time": "2022-05-06T16:50:28.853Z"
   },
   {
    "duration": 457,
    "start_time": "2022-05-06T16:52:17.698Z"
   },
   {
    "duration": 1266,
    "start_time": "2022-05-08T07:36:04.738Z"
   },
   {
    "duration": 19,
    "start_time": "2022-05-08T07:36:06.006Z"
   },
   {
    "duration": 13,
    "start_time": "2022-05-08T07:36:06.028Z"
   },
   {
    "duration": 6,
    "start_time": "2022-05-08T07:36:06.043Z"
   },
   {
    "duration": 10,
    "start_time": "2022-05-08T07:36:06.050Z"
   },
   {
    "duration": 5,
    "start_time": "2022-05-08T07:36:06.062Z"
   },
   {
    "duration": 10,
    "start_time": "2022-05-08T07:36:06.070Z"
   },
   {
    "duration": 31,
    "start_time": "2022-05-08T07:36:06.082Z"
   },
   {
    "duration": 25,
    "start_time": "2022-05-08T07:36:06.115Z"
   },
   {
    "duration": 13,
    "start_time": "2022-05-08T07:36:06.144Z"
   },
   {
    "duration": 5,
    "start_time": "2022-05-08T07:36:06.159Z"
   },
   {
    "duration": 8,
    "start_time": "2022-05-08T07:36:06.166Z"
   },
   {
    "duration": 5,
    "start_time": "2022-05-08T07:36:06.176Z"
   },
   {
    "duration": 391,
    "start_time": "2022-05-08T07:36:06.183Z"
   },
   {
    "duration": 0,
    "start_time": "2022-05-08T07:36:06.575Z"
   },
   {
    "duration": 0,
    "start_time": "2022-05-08T07:36:06.576Z"
   },
   {
    "duration": 0,
    "start_time": "2022-05-08T07:36:06.577Z"
   },
   {
    "duration": 0,
    "start_time": "2022-05-08T07:36:06.578Z"
   },
   {
    "duration": 0,
    "start_time": "2022-05-08T07:36:06.579Z"
   },
   {
    "duration": 0,
    "start_time": "2022-05-08T07:36:06.579Z"
   },
   {
    "duration": 123,
    "start_time": "2022-05-08T07:36:45.238Z"
   },
   {
    "duration": 11,
    "start_time": "2022-05-08T07:38:04.031Z"
   },
   {
    "duration": 122,
    "start_time": "2022-05-08T07:38:32.978Z"
   },
   {
    "duration": 10,
    "start_time": "2022-05-08T07:39:27.458Z"
   },
   {
    "duration": 12,
    "start_time": "2022-05-08T07:39:36.361Z"
   },
   {
    "duration": 118,
    "start_time": "2022-05-08T07:40:34.297Z"
   },
   {
    "duration": 5,
    "start_time": "2022-05-08T07:41:37.383Z"
   },
   {
    "duration": 5,
    "start_time": "2022-05-08T07:41:49.775Z"
   },
   {
    "duration": 6,
    "start_time": "2022-05-08T07:41:56.838Z"
   },
   {
    "duration": 125,
    "start_time": "2022-05-08T07:44:29.021Z"
   },
   {
    "duration": 4,
    "start_time": "2022-05-08T07:45:08.449Z"
   },
   {
    "duration": 4,
    "start_time": "2022-05-08T07:45:32.409Z"
   },
   {
    "duration": 7,
    "start_time": "2022-05-08T07:48:58.748Z"
   },
   {
    "duration": 4,
    "start_time": "2022-05-08T07:49:30.452Z"
   },
   {
    "duration": 5,
    "start_time": "2022-05-08T07:49:36.596Z"
   },
   {
    "duration": 4,
    "start_time": "2022-05-08T07:50:57.571Z"
   },
   {
    "duration": 10,
    "start_time": "2022-05-08T07:54:40.488Z"
   },
   {
    "duration": 3,
    "start_time": "2022-05-08T07:54:44.987Z"
   },
   {
    "duration": 13,
    "start_time": "2022-05-08T07:54:44.993Z"
   },
   {
    "duration": 8,
    "start_time": "2022-05-08T07:54:45.008Z"
   },
   {
    "duration": 9,
    "start_time": "2022-05-08T07:54:45.018Z"
   },
   {
    "duration": 23,
    "start_time": "2022-05-08T07:54:45.029Z"
   },
   {
    "duration": 11,
    "start_time": "2022-05-08T07:54:45.054Z"
   },
   {
    "duration": 12,
    "start_time": "2022-05-08T07:54:45.067Z"
   },
   {
    "duration": 33,
    "start_time": "2022-05-08T07:54:45.081Z"
   },
   {
    "duration": 11,
    "start_time": "2022-05-08T07:54:45.116Z"
   },
   {
    "duration": 7,
    "start_time": "2022-05-08T07:54:45.128Z"
   },
   {
    "duration": 11,
    "start_time": "2022-05-08T07:54:45.137Z"
   },
   {
    "duration": 8,
    "start_time": "2022-05-08T07:54:45.149Z"
   },
   {
    "duration": 8,
    "start_time": "2022-05-08T07:54:45.159Z"
   },
   {
    "duration": 5,
    "start_time": "2022-05-08T07:54:45.169Z"
   },
   {
    "duration": 288,
    "start_time": "2022-05-08T07:54:45.176Z"
   },
   {
    "duration": 0,
    "start_time": "2022-05-08T07:54:45.466Z"
   },
   {
    "duration": 0,
    "start_time": "2022-05-08T07:54:45.467Z"
   },
   {
    "duration": 0,
    "start_time": "2022-05-08T07:54:45.469Z"
   },
   {
    "duration": 0,
    "start_time": "2022-05-08T07:54:45.470Z"
   },
   {
    "duration": 0,
    "start_time": "2022-05-08T07:54:45.471Z"
   },
   {
    "duration": 0,
    "start_time": "2022-05-08T07:54:45.472Z"
   },
   {
    "duration": 0,
    "start_time": "2022-05-08T07:54:45.474Z"
   },
   {
    "duration": 0,
    "start_time": "2022-05-08T07:54:45.475Z"
   },
   {
    "duration": 0,
    "start_time": "2022-05-08T07:54:45.476Z"
   },
   {
    "duration": 0,
    "start_time": "2022-05-08T07:54:45.477Z"
   },
   {
    "duration": 261,
    "start_time": "2022-05-08T07:55:34.032Z"
   },
   {
    "duration": 3,
    "start_time": "2022-05-08T07:55:40.843Z"
   },
   {
    "duration": 14,
    "start_time": "2022-05-08T07:55:40.848Z"
   },
   {
    "duration": 8,
    "start_time": "2022-05-08T07:55:40.863Z"
   },
   {
    "duration": 6,
    "start_time": "2022-05-08T07:55:40.873Z"
   },
   {
    "duration": 17,
    "start_time": "2022-05-08T07:55:40.880Z"
   },
   {
    "duration": 11,
    "start_time": "2022-05-08T07:55:40.900Z"
   },
   {
    "duration": 18,
    "start_time": "2022-05-08T07:55:40.913Z"
   },
   {
    "duration": 29,
    "start_time": "2022-05-08T07:55:40.934Z"
   },
   {
    "duration": 14,
    "start_time": "2022-05-08T07:55:40.965Z"
   },
   {
    "duration": 7,
    "start_time": "2022-05-08T07:55:40.983Z"
   },
   {
    "duration": 32,
    "start_time": "2022-05-08T07:55:40.993Z"
   },
   {
    "duration": 10,
    "start_time": "2022-05-08T07:55:41.027Z"
   },
   {
    "duration": 7,
    "start_time": "2022-05-08T07:55:41.039Z"
   },
   {
    "duration": 6,
    "start_time": "2022-05-08T07:55:41.048Z"
   },
   {
    "duration": 461,
    "start_time": "2022-05-08T07:55:41.056Z"
   },
   {
    "duration": 0,
    "start_time": "2022-05-08T07:55:41.519Z"
   },
   {
    "duration": 0,
    "start_time": "2022-05-08T07:55:41.520Z"
   },
   {
    "duration": 0,
    "start_time": "2022-05-08T07:55:41.524Z"
   },
   {
    "duration": 0,
    "start_time": "2022-05-08T07:55:41.525Z"
   },
   {
    "duration": 0,
    "start_time": "2022-05-08T07:55:41.527Z"
   },
   {
    "duration": 0,
    "start_time": "2022-05-08T07:55:41.528Z"
   },
   {
    "duration": 0,
    "start_time": "2022-05-08T07:55:41.529Z"
   },
   {
    "duration": 0,
    "start_time": "2022-05-08T07:55:41.530Z"
   },
   {
    "duration": 0,
    "start_time": "2022-05-08T07:55:41.531Z"
   },
   {
    "duration": 0,
    "start_time": "2022-05-08T07:55:41.532Z"
   },
   {
    "duration": 16,
    "start_time": "2022-05-08T07:56:31.497Z"
   },
   {
    "duration": 4,
    "start_time": "2022-05-08T08:03:17.210Z"
   },
   {
    "duration": 15,
    "start_time": "2022-05-08T08:03:17.216Z"
   },
   {
    "duration": 11,
    "start_time": "2022-05-08T08:03:17.233Z"
   },
   {
    "duration": 7,
    "start_time": "2022-05-08T08:03:17.247Z"
   },
   {
    "duration": 13,
    "start_time": "2022-05-08T08:03:17.256Z"
   },
   {
    "duration": 7,
    "start_time": "2022-05-08T08:03:17.270Z"
   },
   {
    "duration": 15,
    "start_time": "2022-05-08T08:03:17.278Z"
   },
   {
    "duration": 32,
    "start_time": "2022-05-08T08:03:17.295Z"
   },
   {
    "duration": 10,
    "start_time": "2022-05-08T08:03:17.329Z"
   },
   {
    "duration": 7,
    "start_time": "2022-05-08T08:03:17.341Z"
   },
   {
    "duration": 14,
    "start_time": "2022-05-08T08:03:17.349Z"
   },
   {
    "duration": 109,
    "start_time": "2022-05-08T08:03:17.365Z"
   },
   {
    "duration": 0,
    "start_time": "2022-05-08T08:03:17.476Z"
   },
   {
    "duration": 0,
    "start_time": "2022-05-08T08:03:17.477Z"
   },
   {
    "duration": 0,
    "start_time": "2022-05-08T08:03:17.481Z"
   },
   {
    "duration": 0,
    "start_time": "2022-05-08T08:03:17.485Z"
   },
   {
    "duration": 0,
    "start_time": "2022-05-08T08:03:17.486Z"
   },
   {
    "duration": 0,
    "start_time": "2022-05-08T08:03:17.488Z"
   },
   {
    "duration": 0,
    "start_time": "2022-05-08T08:03:17.489Z"
   },
   {
    "duration": 0,
    "start_time": "2022-05-08T08:03:17.491Z"
   },
   {
    "duration": 0,
    "start_time": "2022-05-08T08:03:17.492Z"
   },
   {
    "duration": 0,
    "start_time": "2022-05-08T08:03:17.494Z"
   },
   {
    "duration": 0,
    "start_time": "2022-05-08T08:03:17.495Z"
   },
   {
    "duration": 1,
    "start_time": "2022-05-08T08:03:17.496Z"
   },
   {
    "duration": 0,
    "start_time": "2022-05-08T08:03:17.498Z"
   },
   {
    "duration": 92,
    "start_time": "2022-05-08T08:03:45.102Z"
   },
   {
    "duration": 95,
    "start_time": "2022-05-08T08:03:58.894Z"
   },
   {
    "duration": 14,
    "start_time": "2022-05-08T08:04:22.285Z"
   },
   {
    "duration": 5,
    "start_time": "2022-05-08T08:04:29.941Z"
   },
   {
    "duration": 5,
    "start_time": "2022-05-08T08:04:32.685Z"
   },
   {
    "duration": 276,
    "start_time": "2022-05-08T08:04:35.781Z"
   },
   {
    "duration": 225,
    "start_time": "2022-05-08T08:04:38.109Z"
   },
   {
    "duration": 3,
    "start_time": "2022-05-08T08:05:39.344Z"
   },
   {
    "duration": 13,
    "start_time": "2022-05-08T08:05:39.348Z"
   },
   {
    "duration": 8,
    "start_time": "2022-05-08T08:05:39.362Z"
   },
   {
    "duration": 5,
    "start_time": "2022-05-08T08:05:39.372Z"
   },
   {
    "duration": 11,
    "start_time": "2022-05-08T08:05:39.379Z"
   },
   {
    "duration": 6,
    "start_time": "2022-05-08T08:05:39.392Z"
   },
   {
    "duration": 25,
    "start_time": "2022-05-08T08:05:39.400Z"
   },
   {
    "duration": 26,
    "start_time": "2022-05-08T08:05:39.428Z"
   },
   {
    "duration": 9,
    "start_time": "2022-05-08T08:05:39.456Z"
   },
   {
    "duration": 11,
    "start_time": "2022-05-08T08:05:39.466Z"
   },
   {
    "duration": 12,
    "start_time": "2022-05-08T08:05:39.479Z"
   },
   {
    "duration": 32,
    "start_time": "2022-05-08T08:05:39.492Z"
   },
   {
    "duration": 7,
    "start_time": "2022-05-08T08:05:39.526Z"
   },
   {
    "duration": 10,
    "start_time": "2022-05-08T08:05:39.535Z"
   },
   {
    "duration": 288,
    "start_time": "2022-05-08T08:05:39.546Z"
   },
   {
    "duration": 181,
    "start_time": "2022-05-08T08:05:39.836Z"
   },
   {
    "duration": 237,
    "start_time": "2022-05-08T08:05:40.024Z"
   },
   {
    "duration": 338,
    "start_time": "2022-05-08T08:05:40.263Z"
   },
   {
    "duration": 293,
    "start_time": "2022-05-08T08:05:40.603Z"
   },
   {
    "duration": 0,
    "start_time": "2022-05-08T08:05:40.898Z"
   },
   {
    "duration": 0,
    "start_time": "2022-05-08T08:05:40.900Z"
   },
   {
    "duration": 0,
    "start_time": "2022-05-08T08:05:40.901Z"
   },
   {
    "duration": 0,
    "start_time": "2022-05-08T08:05:40.903Z"
   },
   {
    "duration": 0,
    "start_time": "2022-05-08T08:05:40.904Z"
   },
   {
    "duration": 0,
    "start_time": "2022-05-08T08:05:40.906Z"
   },
   {
    "duration": 358,
    "start_time": "2022-05-08T08:08:26.851Z"
   },
   {
    "duration": 167,
    "start_time": "2022-05-08T08:08:32.530Z"
   },
   {
    "duration": 191,
    "start_time": "2022-05-08T08:08:36.410Z"
   },
   {
    "duration": 12,
    "start_time": "2022-05-08T08:08:41.194Z"
   },
   {
    "duration": 5,
    "start_time": "2022-05-08T08:08:43.234Z"
   },
   {
    "duration": 19,
    "start_time": "2022-05-08T08:10:10.643Z"
   },
   {
    "duration": 423,
    "start_time": "2022-05-08T08:10:46.492Z"
   },
   {
    "duration": 9,
    "start_time": "2022-05-08T08:12:22.666Z"
   },
   {
    "duration": 7,
    "start_time": "2022-05-08T08:12:32.841Z"
   },
   {
    "duration": 100,
    "start_time": "2022-05-08T08:12:58.650Z"
   },
   {
    "duration": 108,
    "start_time": "2022-05-08T08:13:26.881Z"
   },
   {
    "duration": 8,
    "start_time": "2022-05-08T08:59:10.298Z"
   },
   {
    "duration": 113,
    "start_time": "2022-05-08T09:26:15.617Z"
   },
   {
    "duration": 196,
    "start_time": "2022-05-08T09:27:38.552Z"
   },
   {
    "duration": 14,
    "start_time": "2022-05-08T09:31:34.973Z"
   },
   {
    "duration": 17,
    "start_time": "2022-05-08T09:32:22.412Z"
   },
   {
    "duration": 149,
    "start_time": "2022-05-08T09:32:55.868Z"
   },
   {
    "duration": 4,
    "start_time": "2022-05-08T09:34:01.154Z"
   },
   {
    "duration": 142,
    "start_time": "2022-05-08T09:34:06.698Z"
   },
   {
    "duration": 11,
    "start_time": "2022-05-08T09:34:38.384Z"
   },
   {
    "duration": 13,
    "start_time": "2022-05-08T09:34:45.496Z"
   },
   {
    "duration": 1534,
    "start_time": "2022-05-08T09:35:41.096Z"
   },
   {
    "duration": 1602,
    "start_time": "2022-05-08T09:37:45.279Z"
   },
   {
    "duration": 1473,
    "start_time": "2022-05-08T09:38:26.495Z"
   },
   {
    "duration": 1482,
    "start_time": "2022-05-08T09:38:43.462Z"
   },
   {
    "duration": 1657,
    "start_time": "2022-05-08T09:40:21.789Z"
   },
   {
    "duration": 3,
    "start_time": "2022-05-08T09:40:26.047Z"
   },
   {
    "duration": 18,
    "start_time": "2022-05-08T09:40:26.053Z"
   },
   {
    "duration": 9,
    "start_time": "2022-05-08T09:40:26.073Z"
   },
   {
    "duration": 6,
    "start_time": "2022-05-08T09:40:26.085Z"
   },
   {
    "duration": 14,
    "start_time": "2022-05-08T09:40:26.093Z"
   },
   {
    "duration": 9,
    "start_time": "2022-05-08T09:40:26.109Z"
   },
   {
    "duration": 12,
    "start_time": "2022-05-08T09:40:26.120Z"
   },
   {
    "duration": 29,
    "start_time": "2022-05-08T09:40:26.134Z"
   },
   {
    "duration": 10,
    "start_time": "2022-05-08T09:40:26.165Z"
   },
   {
    "duration": 7,
    "start_time": "2022-05-08T09:40:26.178Z"
   },
   {
    "duration": 13,
    "start_time": "2022-05-08T09:40:26.186Z"
   },
   {
    "duration": 26,
    "start_time": "2022-05-08T09:40:26.201Z"
   },
   {
    "duration": 4,
    "start_time": "2022-05-08T09:40:26.229Z"
   },
   {
    "duration": 7,
    "start_time": "2022-05-08T09:40:26.235Z"
   },
   {
    "duration": 285,
    "start_time": "2022-05-08T09:40:26.244Z"
   },
   {
    "duration": 177,
    "start_time": "2022-05-08T09:40:26.531Z"
   },
   {
    "duration": 176,
    "start_time": "2022-05-08T09:40:26.710Z"
   },
   {
    "duration": 302,
    "start_time": "2022-05-08T09:40:26.888Z"
   },
   {
    "duration": 201,
    "start_time": "2022-05-08T09:40:27.192Z"
   },
   {
    "duration": 0,
    "start_time": "2022-05-08T09:40:27.395Z"
   },
   {
    "duration": 0,
    "start_time": "2022-05-08T09:40:27.396Z"
   },
   {
    "duration": 0,
    "start_time": "2022-05-08T09:40:27.397Z"
   },
   {
    "duration": 0,
    "start_time": "2022-05-08T09:40:27.398Z"
   },
   {
    "duration": 0,
    "start_time": "2022-05-08T09:40:27.399Z"
   },
   {
    "duration": 0,
    "start_time": "2022-05-08T09:40:27.400Z"
   },
   {
    "duration": 0,
    "start_time": "2022-05-08T09:40:27.401Z"
   },
   {
    "duration": 0,
    "start_time": "2022-05-08T09:40:27.402Z"
   },
   {
    "duration": 0,
    "start_time": "2022-05-08T09:40:27.404Z"
   },
   {
    "duration": 0,
    "start_time": "2022-05-08T09:40:27.404Z"
   },
   {
    "duration": 0,
    "start_time": "2022-05-08T09:40:27.405Z"
   },
   {
    "duration": 0,
    "start_time": "2022-05-08T09:40:27.423Z"
   },
   {
    "duration": 416,
    "start_time": "2022-05-08T09:40:45.341Z"
   },
   {
    "duration": 128,
    "start_time": "2022-05-08T09:40:56.524Z"
   },
   {
    "duration": 3,
    "start_time": "2022-05-08T09:41:00.008Z"
   },
   {
    "duration": 20,
    "start_time": "2022-05-08T09:41:00.013Z"
   },
   {
    "duration": 14,
    "start_time": "2022-05-08T09:41:00.035Z"
   },
   {
    "duration": 10,
    "start_time": "2022-05-08T09:41:00.051Z"
   },
   {
    "duration": 14,
    "start_time": "2022-05-08T09:41:00.063Z"
   },
   {
    "duration": 7,
    "start_time": "2022-05-08T09:41:00.079Z"
   },
   {
    "duration": 12,
    "start_time": "2022-05-08T09:41:00.088Z"
   },
   {
    "duration": 43,
    "start_time": "2022-05-08T09:41:00.101Z"
   },
   {
    "duration": 14,
    "start_time": "2022-05-08T09:41:00.146Z"
   },
   {
    "duration": 17,
    "start_time": "2022-05-08T09:41:00.163Z"
   },
   {
    "duration": 23,
    "start_time": "2022-05-08T09:41:00.182Z"
   },
   {
    "duration": 27,
    "start_time": "2022-05-08T09:41:00.207Z"
   },
   {
    "duration": 20,
    "start_time": "2022-05-08T09:41:00.236Z"
   },
   {
    "duration": 37,
    "start_time": "2022-05-08T09:41:00.258Z"
   },
   {
    "duration": 293,
    "start_time": "2022-05-08T09:41:00.297Z"
   },
   {
    "duration": 178,
    "start_time": "2022-05-08T09:41:00.592Z"
   },
   {
    "duration": 185,
    "start_time": "2022-05-08T09:41:00.771Z"
   },
   {
    "duration": 252,
    "start_time": "2022-05-08T09:41:00.957Z"
   },
   {
    "duration": 325,
    "start_time": "2022-05-08T09:41:01.211Z"
   },
   {
    "duration": 0,
    "start_time": "2022-05-08T09:41:01.539Z"
   },
   {
    "duration": 0,
    "start_time": "2022-05-08T09:41:01.541Z"
   },
   {
    "duration": 0,
    "start_time": "2022-05-08T09:41:01.542Z"
   },
   {
    "duration": 0,
    "start_time": "2022-05-08T09:41:01.543Z"
   },
   {
    "duration": 0,
    "start_time": "2022-05-08T09:41:01.544Z"
   },
   {
    "duration": 0,
    "start_time": "2022-05-08T09:41:01.545Z"
   },
   {
    "duration": 0,
    "start_time": "2022-05-08T09:41:01.546Z"
   },
   {
    "duration": 0,
    "start_time": "2022-05-08T09:41:01.547Z"
   },
   {
    "duration": 0,
    "start_time": "2022-05-08T09:41:01.548Z"
   },
   {
    "duration": 0,
    "start_time": "2022-05-08T09:41:01.549Z"
   },
   {
    "duration": 0,
    "start_time": "2022-05-08T09:41:01.550Z"
   },
   {
    "duration": 0,
    "start_time": "2022-05-08T09:41:01.551Z"
   },
   {
    "duration": 292,
    "start_time": "2022-05-08T09:41:11.371Z"
   },
   {
    "duration": 108,
    "start_time": "2022-05-08T09:41:19.757Z"
   },
   {
    "duration": 154,
    "start_time": "2022-05-08T09:41:22.977Z"
   },
   {
    "duration": 5,
    "start_time": "2022-05-08T09:41:25.511Z"
   },
   {
    "duration": 116,
    "start_time": "2022-05-08T09:41:27.340Z"
   },
   {
    "duration": 118,
    "start_time": "2022-05-08T09:41:29.883Z"
   },
   {
    "duration": 9,
    "start_time": "2022-05-08T09:41:32.452Z"
   },
   {
    "duration": 7,
    "start_time": "2022-05-08T09:41:34.724Z"
   },
   {
    "duration": 218,
    "start_time": "2022-05-08T09:41:36.660Z"
   },
   {
    "duration": 180,
    "start_time": "2022-05-08T09:41:39.147Z"
   },
   {
    "duration": 16,
    "start_time": "2022-05-08T09:41:41.155Z"
   },
   {
    "duration": 1621,
    "start_time": "2022-05-08T09:41:43.300Z"
   },
   {
    "duration": 149,
    "start_time": "2022-05-08T09:42:14.668Z"
   },
   {
    "duration": 12,
    "start_time": "2022-05-08T09:42:17.883Z"
   },
   {
    "duration": 14,
    "start_time": "2022-05-08T09:49:02.414Z"
   },
   {
    "duration": 11,
    "start_time": "2022-05-08T09:49:44.918Z"
   },
   {
    "duration": 18,
    "start_time": "2022-05-08T09:50:26.629Z"
   },
   {
    "duration": 1625,
    "start_time": "2022-05-08T09:50:52.788Z"
   },
   {
    "duration": 9,
    "start_time": "2022-05-08T09:51:16.678Z"
   },
   {
    "duration": 39,
    "start_time": "2022-05-08T09:51:52.780Z"
   },
   {
    "duration": 1614,
    "start_time": "2022-05-08T09:53:50.971Z"
   },
   {
    "duration": 13,
    "start_time": "2022-05-08T09:54:13.762Z"
   },
   {
    "duration": 156,
    "start_time": "2022-05-08T10:02:29.180Z"
   },
   {
    "duration": 143,
    "start_time": "2022-05-08T10:02:48.979Z"
   },
   {
    "duration": 186,
    "start_time": "2022-05-08T10:03:01.860Z"
   },
   {
    "duration": 4,
    "start_time": "2022-05-08T10:03:18.188Z"
   },
   {
    "duration": 284,
    "start_time": "2022-05-08T10:03:23.483Z"
   },
   {
    "duration": 261,
    "start_time": "2022-05-08T10:03:34.237Z"
   },
   {
    "duration": 204,
    "start_time": "2022-05-08T10:03:39.755Z"
   },
   {
    "duration": 237,
    "start_time": "2022-05-08T10:03:45.779Z"
   },
   {
    "duration": 216,
    "start_time": "2022-05-08T10:03:52.363Z"
   },
   {
    "duration": 154,
    "start_time": "2022-05-08T10:03:57.803Z"
   },
   {
    "duration": 145,
    "start_time": "2022-05-08T10:04:02.579Z"
   },
   {
    "duration": 168,
    "start_time": "2022-05-08T10:04:23.042Z"
   },
   {
    "duration": 266,
    "start_time": "2022-05-08T10:05:00.875Z"
   },
   {
    "duration": 266,
    "start_time": "2022-05-08T10:05:21.961Z"
   },
   {
    "duration": 155,
    "start_time": "2022-05-08T10:05:42.681Z"
   },
   {
    "duration": 4,
    "start_time": "2022-05-08T10:09:57.581Z"
   },
   {
    "duration": 5,
    "start_time": "2022-05-08T10:10:50.989Z"
   },
   {
    "duration": 5,
    "start_time": "2022-05-08T10:10:59.645Z"
   },
   {
    "duration": 4,
    "start_time": "2022-05-08T10:11:13.292Z"
   },
   {
    "duration": 7,
    "start_time": "2022-05-08T10:13:27.788Z"
   },
   {
    "duration": 147,
    "start_time": "2022-05-08T10:13:31.507Z"
   },
   {
    "duration": 127,
    "start_time": "2022-05-08T10:13:48.436Z"
   },
   {
    "duration": 120,
    "start_time": "2022-05-08T10:14:11.474Z"
   },
   {
    "duration": 8,
    "start_time": "2022-05-08T10:14:14.418Z"
   },
   {
    "duration": 5,
    "start_time": "2022-05-08T10:14:18.746Z"
   },
   {
    "duration": 3,
    "start_time": "2022-05-08T10:15:25.158Z"
   },
   {
    "duration": 18,
    "start_time": "2022-05-08T10:15:25.164Z"
   },
   {
    "duration": 42,
    "start_time": "2022-05-08T10:15:25.184Z"
   },
   {
    "duration": 21,
    "start_time": "2022-05-08T10:15:25.229Z"
   },
   {
    "duration": 32,
    "start_time": "2022-05-08T10:15:25.253Z"
   },
   {
    "duration": 92,
    "start_time": "2022-05-08T10:15:25.287Z"
   },
   {
    "duration": 22,
    "start_time": "2022-05-08T10:15:25.381Z"
   },
   {
    "duration": 36,
    "start_time": "2022-05-08T10:15:25.405Z"
   },
   {
    "duration": 15,
    "start_time": "2022-05-08T10:15:25.443Z"
   },
   {
    "duration": 7,
    "start_time": "2022-05-08T10:15:25.462Z"
   },
   {
    "duration": 12,
    "start_time": "2022-05-08T10:15:25.470Z"
   },
   {
    "duration": 13,
    "start_time": "2022-05-08T10:15:25.484Z"
   },
   {
    "duration": 30,
    "start_time": "2022-05-08T10:15:25.499Z"
   },
   {
    "duration": 5,
    "start_time": "2022-05-08T10:15:25.531Z"
   },
   {
    "duration": 451,
    "start_time": "2022-05-08T10:15:25.538Z"
   },
   {
    "duration": 269,
    "start_time": "2022-05-08T10:15:25.991Z"
   },
   {
    "duration": 263,
    "start_time": "2022-05-08T10:15:26.263Z"
   },
   {
    "duration": 385,
    "start_time": "2022-05-08T10:15:26.528Z"
   },
   {
    "duration": 177,
    "start_time": "2022-05-08T10:15:26.914Z"
   },
   {
    "duration": 321,
    "start_time": "2022-05-08T10:15:27.092Z"
   },
   {
    "duration": 9,
    "start_time": "2022-05-08T10:15:27.415Z"
   },
   {
    "duration": 14,
    "start_time": "2022-05-08T10:15:27.428Z"
   },
   {
    "duration": 121,
    "start_time": "2022-05-08T10:15:27.444Z"
   },
   {
    "duration": 111,
    "start_time": "2022-05-08T10:15:27.566Z"
   },
   {
    "duration": 5,
    "start_time": "2022-05-08T10:15:27.679Z"
   },
   {
    "duration": 144,
    "start_time": "2022-05-08T10:15:27.686Z"
   },
   {
    "duration": 144,
    "start_time": "2022-05-08T10:15:27.832Z"
   },
   {
    "duration": 8,
    "start_time": "2022-05-08T10:15:27.979Z"
   },
   {
    "duration": 9,
    "start_time": "2022-05-08T10:15:27.989Z"
   },
   {
    "duration": 341,
    "start_time": "2022-05-08T10:15:28.000Z"
   },
   {
    "duration": 239,
    "start_time": "2022-05-08T10:15:28.343Z"
   },
   {
    "duration": 15,
    "start_time": "2022-05-08T10:15:28.584Z"
   },
   {
    "duration": 29,
    "start_time": "2022-05-08T10:15:28.601Z"
   },
   {
    "duration": 38,
    "start_time": "2022-05-08T10:15:28.632Z"
   },
   {
    "duration": 17,
    "start_time": "2022-05-08T10:15:28.672Z"
   },
   {
    "duration": 4,
    "start_time": "2022-05-08T10:20:41.909Z"
   },
   {
    "duration": 14,
    "start_time": "2022-05-08T10:21:32.650Z"
   },
   {
    "duration": 15,
    "start_time": "2022-05-08T10:21:56.914Z"
   },
   {
    "duration": 15,
    "start_time": "2022-05-08T10:22:04.601Z"
   },
   {
    "duration": 12,
    "start_time": "2022-05-08T10:22:10.226Z"
   },
   {
    "duration": 11,
    "start_time": "2022-05-08T10:26:36.743Z"
   },
   {
    "duration": 10,
    "start_time": "2022-05-08T10:26:58.397Z"
   },
   {
    "duration": 12,
    "start_time": "2022-05-08T10:27:05.134Z"
   },
   {
    "duration": 12,
    "start_time": "2022-05-08T10:27:10.036Z"
   },
   {
    "duration": 14,
    "start_time": "2022-05-08T10:27:15.812Z"
   },
   {
    "duration": 1930,
    "start_time": "2022-05-09T08:01:04.855Z"
   },
   {
    "duration": 14,
    "start_time": "2022-05-09T08:01:06.788Z"
   },
   {
    "duration": 26,
    "start_time": "2022-05-09T08:01:06.805Z"
   },
   {
    "duration": 7,
    "start_time": "2022-05-09T08:01:06.835Z"
   },
   {
    "duration": 14,
    "start_time": "2022-05-09T08:01:06.844Z"
   },
   {
    "duration": 7,
    "start_time": "2022-05-09T08:01:06.860Z"
   },
   {
    "duration": 61,
    "start_time": "2022-05-09T08:01:06.869Z"
   },
   {
    "duration": 31,
    "start_time": "2022-05-09T08:01:06.932Z"
   },
   {
    "duration": 16,
    "start_time": "2022-05-09T08:01:06.965Z"
   },
   {
    "duration": 16,
    "start_time": "2022-05-09T08:01:06.985Z"
   },
   {
    "duration": 39,
    "start_time": "2022-05-09T08:01:07.004Z"
   },
   {
    "duration": 9,
    "start_time": "2022-05-09T08:01:07.046Z"
   },
   {
    "duration": 8,
    "start_time": "2022-05-09T08:01:07.058Z"
   },
   {
    "duration": 767,
    "start_time": "2022-05-09T08:01:07.068Z"
   },
   {
    "duration": 659,
    "start_time": "2022-05-09T08:01:07.838Z"
   },
   {
    "duration": 418,
    "start_time": "2022-05-09T08:01:08.499Z"
   },
   {
    "duration": 557,
    "start_time": "2022-05-09T08:01:08.919Z"
   },
   {
    "duration": 428,
    "start_time": "2022-05-09T08:01:09.478Z"
   },
   {
    "duration": 423,
    "start_time": "2022-05-09T08:01:09.908Z"
   },
   {
    "duration": 3,
    "start_time": "2022-05-09T08:01:10.336Z"
   },
   {
    "duration": 11,
    "start_time": "2022-05-09T08:01:10.341Z"
   },
   {
    "duration": 203,
    "start_time": "2022-05-09T08:01:10.355Z"
   },
   {
    "duration": 200,
    "start_time": "2022-05-09T08:01:10.560Z"
   },
   {
    "duration": 10,
    "start_time": "2022-05-09T08:01:10.762Z"
   },
   {
    "duration": 319,
    "start_time": "2022-05-09T08:01:10.774Z"
   },
   {
    "duration": 220,
    "start_time": "2022-05-09T08:01:11.095Z"
   },
   {
    "duration": 15,
    "start_time": "2022-05-09T08:01:11.317Z"
   },
   {
    "duration": 7,
    "start_time": "2022-05-09T08:01:11.334Z"
   },
   {
    "duration": 393,
    "start_time": "2022-05-09T08:01:11.344Z"
   },
   {
    "duration": 351,
    "start_time": "2022-05-09T08:01:11.739Z"
   },
   {
    "duration": 36,
    "start_time": "2022-05-09T08:01:12.092Z"
   },
   {
    "duration": 17,
    "start_time": "2022-05-09T08:01:12.131Z"
   },
   {
    "duration": 74,
    "start_time": "2022-05-09T08:01:12.150Z"
   },
   {
    "duration": 22,
    "start_time": "2022-05-09T08:01:12.228Z"
   },
   {
    "duration": 113,
    "start_time": "2022-05-09T08:01:36.989Z"
   },
   {
    "duration": 7,
    "start_time": "2022-05-09T08:01:51.438Z"
   },
   {
    "duration": 187,
    "start_time": "2022-05-09T08:01:54.615Z"
   },
   {
    "duration": 175,
    "start_time": "2022-05-09T08:02:17.854Z"
   },
   {
    "duration": 6,
    "start_time": "2022-05-09T08:03:17.193Z"
   },
   {
    "duration": 26,
    "start_time": "2022-05-09T08:03:17.202Z"
   },
   {
    "duration": 16,
    "start_time": "2022-05-09T08:03:17.230Z"
   },
   {
    "duration": 7,
    "start_time": "2022-05-09T08:03:17.545Z"
   },
   {
    "duration": 30,
    "start_time": "2022-05-09T08:03:17.556Z"
   },
   {
    "duration": 8,
    "start_time": "2022-05-09T08:03:17.894Z"
   },
   {
    "duration": 16,
    "start_time": "2022-05-09T08:03:17.906Z"
   },
   {
    "duration": 32,
    "start_time": "2022-05-09T08:03:17.924Z"
   },
   {
    "duration": 15,
    "start_time": "2022-05-09T08:03:17.958Z"
   },
   {
    "duration": 15,
    "start_time": "2022-05-09T08:03:18.242Z"
   },
   {
    "duration": 25,
    "start_time": "2022-05-09T08:03:18.261Z"
   },
   {
    "duration": 7,
    "start_time": "2022-05-09T08:03:18.289Z"
   },
   {
    "duration": 10,
    "start_time": "2022-05-09T08:03:18.298Z"
   },
   {
    "duration": 471,
    "start_time": "2022-05-09T08:03:18.590Z"
   },
   {
    "duration": 308,
    "start_time": "2022-05-09T08:03:19.064Z"
   },
   {
    "duration": 304,
    "start_time": "2022-05-09T08:03:19.374Z"
   },
   {
    "duration": 419,
    "start_time": "2022-05-09T08:03:19.681Z"
   },
   {
    "duration": 281,
    "start_time": "2022-05-09T08:03:20.103Z"
   },
   {
    "duration": 431,
    "start_time": "2022-05-09T08:03:20.387Z"
   },
   {
    "duration": 192,
    "start_time": "2022-05-09T08:03:20.824Z"
   },
   {
    "duration": 203,
    "start_time": "2022-05-09T08:03:21.019Z"
   },
   {
    "duration": 8,
    "start_time": "2022-05-09T08:03:21.225Z"
   },
   {
    "duration": 226,
    "start_time": "2022-05-09T08:03:21.237Z"
   },
   {
    "duration": 319,
    "start_time": "2022-05-09T08:03:21.465Z"
   },
   {
    "duration": 11,
    "start_time": "2022-05-09T08:03:21.786Z"
   },
   {
    "duration": 27,
    "start_time": "2022-05-09T08:03:21.799Z"
   },
   {
    "duration": 379,
    "start_time": "2022-05-09T08:03:21.829Z"
   },
   {
    "duration": 338,
    "start_time": "2022-05-09T08:03:22.210Z"
   },
   {
    "duration": 16,
    "start_time": "2022-05-09T08:03:22.551Z"
   },
   {
    "duration": 16,
    "start_time": "2022-05-09T08:03:22.569Z"
   },
   {
    "duration": 39,
    "start_time": "2022-05-09T08:03:22.624Z"
   },
   {
    "duration": 20,
    "start_time": "2022-05-09T08:03:22.665Z"
   },
   {
    "duration": 5,
    "start_time": "2022-05-09T08:04:37.176Z"
   },
   {
    "duration": 16,
    "start_time": "2022-05-09T08:04:37.183Z"
   },
   {
    "duration": 13,
    "start_time": "2022-05-09T08:04:37.202Z"
   },
   {
    "duration": 7,
    "start_time": "2022-05-09T08:04:37.526Z"
   },
   {
    "duration": 15,
    "start_time": "2022-05-09T08:04:37.535Z"
   },
   {
    "duration": 7,
    "start_time": "2022-05-09T08:04:37.877Z"
   },
   {
    "duration": 24,
    "start_time": "2022-05-09T08:04:37.888Z"
   },
   {
    "duration": 43,
    "start_time": "2022-05-09T08:04:37.915Z"
   },
   {
    "duration": 16,
    "start_time": "2022-05-09T08:04:38.238Z"
   },
   {
    "duration": 33,
    "start_time": "2022-05-09T08:04:38.257Z"
   },
   {
    "duration": 21,
    "start_time": "2022-05-09T08:04:38.293Z"
   },
   {
    "duration": 12,
    "start_time": "2022-05-09T08:04:38.316Z"
   },
   {
    "duration": 18,
    "start_time": "2022-05-09T08:04:38.331Z"
   },
   {
    "duration": 486,
    "start_time": "2022-05-09T08:04:38.352Z"
   },
   {
    "duration": 296,
    "start_time": "2022-05-09T08:04:38.841Z"
   },
   {
    "duration": 285,
    "start_time": "2022-05-09T08:04:39.139Z"
   },
   {
    "duration": 395,
    "start_time": "2022-05-09T08:04:39.426Z"
   },
   {
    "duration": 287,
    "start_time": "2022-05-09T08:04:39.825Z"
   },
   {
    "duration": 416,
    "start_time": "2022-05-09T08:04:40.114Z"
   },
   {
    "duration": 197,
    "start_time": "2022-05-09T08:04:40.532Z"
   },
   {
    "duration": 199,
    "start_time": "2022-05-09T08:04:40.731Z"
   },
   {
    "duration": 218,
    "start_time": "2022-05-09T08:04:40.932Z"
   },
   {
    "duration": 198,
    "start_time": "2022-05-09T08:04:41.153Z"
   },
   {
    "duration": 7,
    "start_time": "2022-05-09T08:04:41.354Z"
   },
   {
    "duration": 234,
    "start_time": "2022-05-09T08:04:41.363Z"
   },
   {
    "duration": 233,
    "start_time": "2022-05-09T08:04:41.602Z"
   },
   {
    "duration": 12,
    "start_time": "2022-05-09T08:04:41.837Z"
   },
   {
    "duration": 16,
    "start_time": "2022-05-09T08:04:41.852Z"
   },
   {
    "duration": 394,
    "start_time": "2022-05-09T08:04:41.871Z"
   },
   {
    "duration": 344,
    "start_time": "2022-05-09T08:04:42.267Z"
   },
   {
    "duration": 24,
    "start_time": "2022-05-09T08:04:42.613Z"
   },
   {
    "duration": 15,
    "start_time": "2022-05-09T08:04:42.640Z"
   },
   {
    "duration": 76,
    "start_time": "2022-05-09T08:04:42.657Z"
   },
   {
    "duration": 20,
    "start_time": "2022-05-09T08:04:42.735Z"
   },
   {
    "duration": 238,
    "start_time": "2022-05-09T08:07:41.038Z"
   },
   {
    "duration": 7,
    "start_time": "2022-05-09T08:07:46.022Z"
   },
   {
    "duration": 199,
    "start_time": "2022-05-09T08:07:48.055Z"
   },
   {
    "duration": 5,
    "start_time": "2022-05-09T08:08:39.098Z"
   },
   {
    "duration": 34,
    "start_time": "2022-05-09T08:08:39.105Z"
   },
   {
    "duration": 12,
    "start_time": "2022-05-09T08:08:39.141Z"
   },
   {
    "duration": 6,
    "start_time": "2022-05-09T08:08:39.449Z"
   },
   {
    "duration": 24,
    "start_time": "2022-05-09T08:08:39.458Z"
   },
   {
    "duration": 6,
    "start_time": "2022-05-09T08:08:39.798Z"
   },
   {
    "duration": 17,
    "start_time": "2022-05-09T08:08:39.808Z"
   },
   {
    "duration": 31,
    "start_time": "2022-05-09T08:08:39.828Z"
   },
   {
    "duration": 15,
    "start_time": "2022-05-09T08:08:40.146Z"
   },
   {
    "duration": 20,
    "start_time": "2022-05-09T08:08:40.164Z"
   },
   {
    "duration": 32,
    "start_time": "2022-05-09T08:08:40.187Z"
   },
   {
    "duration": 8,
    "start_time": "2022-05-09T08:08:40.499Z"
   },
   {
    "duration": 7,
    "start_time": "2022-05-09T08:08:40.511Z"
   },
   {
    "duration": 787,
    "start_time": "2022-05-09T08:08:40.521Z"
   },
   {
    "duration": 431,
    "start_time": "2022-05-09T08:08:41.311Z"
   },
   {
    "duration": 292,
    "start_time": "2022-05-09T08:08:41.745Z"
   },
   {
    "duration": 496,
    "start_time": "2022-05-09T08:08:42.039Z"
   },
   {
    "duration": 290,
    "start_time": "2022-05-09T08:08:42.537Z"
   },
   {
    "duration": 476,
    "start_time": "2022-05-09T08:08:42.831Z"
   },
   {
    "duration": 191,
    "start_time": "2022-05-09T08:08:43.309Z"
   },
   {
    "duration": 200,
    "start_time": "2022-05-09T08:08:43.503Z"
   },
   {
    "duration": 7,
    "start_time": "2022-05-09T08:08:43.705Z"
   },
   {
    "duration": 234,
    "start_time": "2022-05-09T08:08:43.725Z"
   },
   {
    "duration": 8,
    "start_time": "2022-05-09T08:08:43.961Z"
   },
   {
    "duration": 234,
    "start_time": "2022-05-09T08:08:43.972Z"
   },
   {
    "duration": 228,
    "start_time": "2022-05-09T08:08:44.208Z"
   },
   {
    "duration": 11,
    "start_time": "2022-05-09T08:08:44.439Z"
   },
   {
    "duration": 18,
    "start_time": "2022-05-09T08:08:44.452Z"
   },
   {
    "duration": 392,
    "start_time": "2022-05-09T08:08:44.472Z"
   },
   {
    "duration": 602,
    "start_time": "2022-05-09T08:08:44.866Z"
   },
   {
    "duration": 26,
    "start_time": "2022-05-09T08:08:45.473Z"
   },
   {
    "duration": 37,
    "start_time": "2022-05-09T08:08:45.502Z"
   },
   {
    "duration": 44,
    "start_time": "2022-05-09T08:08:45.542Z"
   },
   {
    "duration": 61,
    "start_time": "2022-05-09T08:08:45.589Z"
   },
   {
    "duration": 15,
    "start_time": "2022-05-09T08:56:18.458Z"
   },
   {
    "duration": 878,
    "start_time": "2022-05-09T08:59:01.228Z"
   },
   {
    "duration": 5,
    "start_time": "2022-05-09T08:59:24.646Z"
   },
   {
    "duration": 16,
    "start_time": "2022-05-09T08:59:24.653Z"
   },
   {
    "duration": 11,
    "start_time": "2022-05-09T08:59:24.672Z"
   },
   {
    "duration": 6,
    "start_time": "2022-05-09T08:59:24.997Z"
   },
   {
    "duration": 23,
    "start_time": "2022-05-09T08:59:25.006Z"
   },
   {
    "duration": 6,
    "start_time": "2022-05-09T08:59:25.346Z"
   },
   {
    "duration": 38,
    "start_time": "2022-05-09T08:59:25.355Z"
   },
   {
    "duration": 42,
    "start_time": "2022-05-09T08:59:25.395Z"
   },
   {
    "duration": 15,
    "start_time": "2022-05-09T08:59:25.694Z"
   },
   {
    "duration": 30,
    "start_time": "2022-05-09T08:59:25.712Z"
   },
   {
    "duration": 22,
    "start_time": "2022-05-09T08:59:25.745Z"
   },
   {
    "duration": 6,
    "start_time": "2022-05-09T08:59:26.044Z"
   },
   {
    "duration": 8,
    "start_time": "2022-05-09T08:59:26.053Z"
   },
   {
    "duration": 492,
    "start_time": "2022-05-09T08:59:26.064Z"
   },
   {
    "duration": 311,
    "start_time": "2022-05-09T08:59:26.559Z"
   },
   {
    "duration": 311,
    "start_time": "2022-05-09T08:59:26.872Z"
   },
   {
    "duration": 405,
    "start_time": "2022-05-09T08:59:27.186Z"
   },
   {
    "duration": 409,
    "start_time": "2022-05-09T08:59:27.593Z"
   },
   {
    "duration": 398,
    "start_time": "2022-05-09T08:59:28.007Z"
   },
   {
    "duration": 192,
    "start_time": "2022-05-09T08:59:28.408Z"
   },
   {
    "duration": 304,
    "start_time": "2022-05-09T08:59:28.603Z"
   },
   {
    "duration": 16,
    "start_time": "2022-05-09T08:59:28.911Z"
   },
   {
    "duration": 346,
    "start_time": "2022-05-09T08:59:28.931Z"
   },
   {
    "duration": 10,
    "start_time": "2022-05-09T08:59:29.282Z"
   },
   {
    "duration": 356,
    "start_time": "2022-05-09T08:59:29.295Z"
   },
   {
    "duration": 546,
    "start_time": "2022-05-09T08:59:29.654Z"
   },
   {
    "duration": 21,
    "start_time": "2022-05-09T08:59:30.203Z"
   },
   {
    "duration": 473,
    "start_time": "2022-05-09T08:59:30.228Z"
   },
   {
    "duration": 394,
    "start_time": "2022-05-09T08:59:30.703Z"
   },
   {
    "duration": 27,
    "start_time": "2022-05-09T08:59:31.100Z"
   },
   {
    "duration": 17,
    "start_time": "2022-05-09T08:59:31.130Z"
   },
   {
    "duration": 65,
    "start_time": "2022-05-09T08:59:31.150Z"
   },
   {
    "duration": 20,
    "start_time": "2022-05-09T08:59:31.218Z"
   },
   {
    "duration": 1442,
    "start_time": "2022-05-10T08:00:07.969Z"
   },
   {
    "duration": 28,
    "start_time": "2022-05-10T08:00:09.414Z"
   },
   {
    "duration": 12,
    "start_time": "2022-05-10T08:00:09.444Z"
   },
   {
    "duration": 15,
    "start_time": "2022-05-10T08:00:09.458Z"
   },
   {
    "duration": 19,
    "start_time": "2022-05-10T08:00:09.474Z"
   },
   {
    "duration": 17,
    "start_time": "2022-05-10T08:00:09.495Z"
   },
   {
    "duration": 17,
    "start_time": "2022-05-10T08:00:09.514Z"
   },
   {
    "duration": 53,
    "start_time": "2022-05-10T08:00:09.533Z"
   },
   {
    "duration": 10,
    "start_time": "2022-05-10T08:00:09.588Z"
   },
   {
    "duration": 24,
    "start_time": "2022-05-10T08:00:09.602Z"
   },
   {
    "duration": 13,
    "start_time": "2022-05-10T08:00:09.628Z"
   },
   {
    "duration": 4,
    "start_time": "2022-05-10T08:00:09.643Z"
   },
   {
    "duration": 9,
    "start_time": "2022-05-10T08:00:09.648Z"
   },
   {
    "duration": 277,
    "start_time": "2022-05-10T08:00:09.658Z"
   },
   {
    "duration": 339,
    "start_time": "2022-05-10T08:00:09.936Z"
   },
   {
    "duration": 0,
    "start_time": "2022-05-10T08:00:10.277Z"
   },
   {
    "duration": 0,
    "start_time": "2022-05-10T08:00:10.279Z"
   },
   {
    "duration": 1,
    "start_time": "2022-05-10T08:00:10.280Z"
   },
   {
    "duration": 0,
    "start_time": "2022-05-10T08:00:10.282Z"
   },
   {
    "duration": 0,
    "start_time": "2022-05-10T08:00:10.283Z"
   },
   {
    "duration": 0,
    "start_time": "2022-05-10T08:00:10.284Z"
   },
   {
    "duration": 0,
    "start_time": "2022-05-10T08:00:10.285Z"
   },
   {
    "duration": 0,
    "start_time": "2022-05-10T08:00:10.286Z"
   },
   {
    "duration": 0,
    "start_time": "2022-05-10T08:00:10.287Z"
   },
   {
    "duration": 0,
    "start_time": "2022-05-10T08:00:10.288Z"
   },
   {
    "duration": 0,
    "start_time": "2022-05-10T08:00:10.300Z"
   },
   {
    "duration": 0,
    "start_time": "2022-05-10T08:00:10.301Z"
   },
   {
    "duration": 0,
    "start_time": "2022-05-10T08:00:10.307Z"
   },
   {
    "duration": 0,
    "start_time": "2022-05-10T08:00:10.311Z"
   },
   {
    "duration": 0,
    "start_time": "2022-05-10T08:00:10.313Z"
   },
   {
    "duration": 0,
    "start_time": "2022-05-10T08:00:10.315Z"
   },
   {
    "duration": 0,
    "start_time": "2022-05-10T08:00:10.316Z"
   },
   {
    "duration": 0,
    "start_time": "2022-05-10T08:00:10.320Z"
   },
   {
    "duration": 133,
    "start_time": "2022-05-10T08:03:23.717Z"
   },
   {
    "duration": 165,
    "start_time": "2022-05-10T08:05:40.198Z"
   },
   {
    "duration": 247,
    "start_time": "2022-05-10T08:06:33.966Z"
   },
   {
    "duration": 4,
    "start_time": "2022-05-10T08:06:48.754Z"
   },
   {
    "duration": 21,
    "start_time": "2022-05-10T08:06:48.760Z"
   },
   {
    "duration": 10,
    "start_time": "2022-05-10T08:06:48.782Z"
   },
   {
    "duration": 4,
    "start_time": "2022-05-10T08:06:48.795Z"
   },
   {
    "duration": 26,
    "start_time": "2022-05-10T08:06:48.801Z"
   },
   {
    "duration": 6,
    "start_time": "2022-05-10T08:06:48.829Z"
   },
   {
    "duration": 10,
    "start_time": "2022-05-10T08:06:48.837Z"
   },
   {
    "duration": 62,
    "start_time": "2022-05-10T08:06:48.849Z"
   },
   {
    "duration": 10,
    "start_time": "2022-05-10T08:06:48.914Z"
   },
   {
    "duration": 10,
    "start_time": "2022-05-10T08:06:48.926Z"
   },
   {
    "duration": 12,
    "start_time": "2022-05-10T08:06:48.938Z"
   },
   {
    "duration": 6,
    "start_time": "2022-05-10T08:06:48.952Z"
   },
   {
    "duration": 6,
    "start_time": "2022-05-10T08:06:48.960Z"
   },
   {
    "duration": 276,
    "start_time": "2022-05-10T08:06:48.967Z"
   },
   {
    "duration": 182,
    "start_time": "2022-05-10T08:06:49.245Z"
   },
   {
    "duration": 156,
    "start_time": "2022-05-10T08:06:49.429Z"
   },
   {
    "duration": 317,
    "start_time": "2022-05-10T08:06:49.587Z"
   },
   {
    "duration": 216,
    "start_time": "2022-05-10T08:06:49.906Z"
   },
   {
    "duration": 269,
    "start_time": "2022-05-10T08:06:50.124Z"
   },
   {
    "duration": 108,
    "start_time": "2022-05-10T08:06:50.394Z"
   },
   {
    "duration": 98,
    "start_time": "2022-05-10T08:06:50.505Z"
   },
   {
    "duration": 7,
    "start_time": "2022-05-10T08:06:50.605Z"
   },
   {
    "duration": 130,
    "start_time": "2022-05-10T08:06:50.614Z"
   },
   {
    "duration": 5,
    "start_time": "2022-05-10T08:06:50.747Z"
   },
   {
    "duration": 133,
    "start_time": "2022-05-10T08:06:50.754Z"
   },
   {
    "duration": 124,
    "start_time": "2022-05-10T08:06:50.900Z"
   },
   {
    "duration": 5,
    "start_time": "2022-05-10T08:06:51.026Z"
   },
   {
    "duration": 306,
    "start_time": "2022-05-10T08:06:51.033Z"
   },
   {
    "duration": 269,
    "start_time": "2022-05-10T08:06:51.341Z"
   },
   {
    "duration": 13,
    "start_time": "2022-05-10T08:06:51.613Z"
   },
   {
    "duration": 14,
    "start_time": "2022-05-10T08:06:51.628Z"
   },
   {
    "duration": 27,
    "start_time": "2022-05-10T08:06:51.644Z"
   },
   {
    "duration": 40,
    "start_time": "2022-05-10T08:06:51.673Z"
   },
   {
    "duration": 159,
    "start_time": "2022-05-10T08:07:53.810Z"
   },
   {
    "duration": 377,
    "start_time": "2022-05-10T08:08:43.378Z"
   },
   {
    "duration": 200,
    "start_time": "2022-05-10T08:09:28.614Z"
   },
   {
    "duration": 288,
    "start_time": "2022-05-10T08:10:06.017Z"
   },
   {
    "duration": 114,
    "start_time": "2022-05-10T08:11:04.968Z"
   },
   {
    "duration": 252,
    "start_time": "2022-05-10T08:12:14.071Z"
   },
   {
    "duration": 134,
    "start_time": "2022-05-10T08:12:29.303Z"
   },
   {
    "duration": 141,
    "start_time": "2022-05-10T08:12:49.704Z"
   },
   {
    "duration": 142,
    "start_time": "2022-05-10T08:14:06.862Z"
   },
   {
    "duration": 128,
    "start_time": "2022-05-10T08:14:11.749Z"
   },
   {
    "duration": 138,
    "start_time": "2022-05-10T08:15:11.964Z"
   },
   {
    "duration": 5,
    "start_time": "2022-05-10T08:17:40.594Z"
   },
   {
    "duration": 8,
    "start_time": "2022-05-10T08:17:43.767Z"
   },
   {
    "duration": 4,
    "start_time": "2022-05-10T08:18:05.993Z"
   },
   {
    "duration": 9,
    "start_time": "2022-05-10T08:18:07.673Z"
   },
   {
    "duration": 4,
    "start_time": "2022-05-10T08:18:28.593Z"
   },
   {
    "duration": 9,
    "start_time": "2022-05-10T08:18:31.730Z"
   },
   {
    "duration": 4,
    "start_time": "2022-05-10T08:20:16.178Z"
   },
   {
    "duration": 12,
    "start_time": "2022-05-10T08:21:51.110Z"
   },
   {
    "duration": 3,
    "start_time": "2022-05-10T08:26:51.233Z"
   },
   {
    "duration": 32,
    "start_time": "2022-05-10T08:26:51.238Z"
   },
   {
    "duration": 8,
    "start_time": "2022-05-10T08:26:51.271Z"
   },
   {
    "duration": 9,
    "start_time": "2022-05-10T08:26:51.281Z"
   },
   {
    "duration": 13,
    "start_time": "2022-05-10T08:26:51.291Z"
   },
   {
    "duration": 21,
    "start_time": "2022-05-10T08:26:51.306Z"
   },
   {
    "duration": 12,
    "start_time": "2022-05-10T08:26:51.328Z"
   },
   {
    "duration": 54,
    "start_time": "2022-05-10T08:26:51.342Z"
   },
   {
    "duration": 14,
    "start_time": "2022-05-10T08:26:51.398Z"
   },
   {
    "duration": 22,
    "start_time": "2022-05-10T08:26:51.415Z"
   },
   {
    "duration": 24,
    "start_time": "2022-05-10T08:26:51.439Z"
   },
   {
    "duration": 8,
    "start_time": "2022-05-10T08:26:51.465Z"
   },
   {
    "duration": 7,
    "start_time": "2022-05-10T08:26:51.475Z"
   },
   {
    "duration": 268,
    "start_time": "2022-05-10T08:26:51.484Z"
   },
   {
    "duration": 256,
    "start_time": "2022-05-10T08:26:51.753Z"
   },
   {
    "duration": 247,
    "start_time": "2022-05-10T08:26:52.012Z"
   },
   {
    "duration": 368,
    "start_time": "2022-05-10T08:26:52.261Z"
   },
   {
    "duration": 170,
    "start_time": "2022-05-10T08:26:52.630Z"
   },
   {
    "duration": 289,
    "start_time": "2022-05-10T08:26:52.802Z"
   },
   {
    "duration": 140,
    "start_time": "2022-05-10T08:26:53.092Z"
   },
   {
    "duration": 136,
    "start_time": "2022-05-10T08:26:53.234Z"
   },
   {
    "duration": 4,
    "start_time": "2022-05-10T08:26:53.371Z"
   },
   {
    "duration": 150,
    "start_time": "2022-05-10T08:26:53.377Z"
   },
   {
    "duration": 5,
    "start_time": "2022-05-10T08:26:53.529Z"
   },
   {
    "duration": 147,
    "start_time": "2022-05-10T08:26:53.536Z"
   },
   {
    "duration": 238,
    "start_time": "2022-05-10T08:26:53.684Z"
   },
   {
    "duration": 4,
    "start_time": "2022-05-10T08:26:53.924Z"
   },
   {
    "duration": 219,
    "start_time": "2022-05-10T08:26:53.931Z"
   },
   {
    "duration": 166,
    "start_time": "2022-05-10T08:26:54.152Z"
   },
   {
    "duration": 11,
    "start_time": "2022-05-10T08:26:54.320Z"
   },
   {
    "duration": 10,
    "start_time": "2022-05-10T08:26:54.332Z"
   },
   {
    "duration": 27,
    "start_time": "2022-05-10T08:26:54.343Z"
   },
   {
    "duration": 16,
    "start_time": "2022-05-10T08:26:54.400Z"
   },
   {
    "duration": 13,
    "start_time": "2022-05-10T08:27:37.418Z"
   },
   {
    "duration": 1373,
    "start_time": "2022-05-11T05:13:27.767Z"
   },
   {
    "duration": 29,
    "start_time": "2022-05-11T05:13:29.142Z"
   },
   {
    "duration": 12,
    "start_time": "2022-05-11T05:13:29.173Z"
   },
   {
    "duration": 6,
    "start_time": "2022-05-11T05:13:29.187Z"
   },
   {
    "duration": 10,
    "start_time": "2022-05-11T05:13:29.384Z"
   },
   {
    "duration": 4,
    "start_time": "2022-05-11T05:13:29.943Z"
   },
   {
    "duration": 10,
    "start_time": "2022-05-11T05:13:30.328Z"
   },
   {
    "duration": 50,
    "start_time": "2022-05-11T05:13:31.513Z"
   },
   {
    "duration": 12,
    "start_time": "2022-05-11T05:13:31.699Z"
   },
   {
    "duration": 11,
    "start_time": "2022-05-11T05:13:31.904Z"
   },
   {
    "duration": 13,
    "start_time": "2022-05-11T05:13:32.288Z"
   },
   {
    "duration": 5,
    "start_time": "2022-05-11T05:13:32.672Z"
   },
   {
    "duration": 5,
    "start_time": "2022-05-11T05:13:32.864Z"
   },
   {
    "duration": 296,
    "start_time": "2022-05-11T05:13:33.449Z"
   },
   {
    "duration": 244,
    "start_time": "2022-05-11T05:13:36.232Z"
   },
   {
    "duration": 183,
    "start_time": "2022-05-11T05:13:41.120Z"
   },
   {
    "duration": 328,
    "start_time": "2022-05-11T05:13:42.122Z"
   },
   {
    "duration": 167,
    "start_time": "2022-05-11T05:13:42.879Z"
   },
   {
    "duration": 303,
    "start_time": "2022-05-11T05:13:43.473Z"
   },
   {
    "duration": 134,
    "start_time": "2022-05-11T05:13:44.624Z"
   },
   {
    "duration": 139,
    "start_time": "2022-05-11T05:13:45.263Z"
   },
   {
    "duration": 6,
    "start_time": "2022-05-11T05:13:46.096Z"
   },
   {
    "duration": 242,
    "start_time": "2022-05-11T05:13:46.760Z"
   },
   {
    "duration": 6,
    "start_time": "2022-05-11T05:13:47.145Z"
   },
   {
    "duration": 137,
    "start_time": "2022-05-11T05:13:47.336Z"
   },
   {
    "duration": 131,
    "start_time": "2022-05-11T05:13:47.544Z"
   },
   {
    "duration": 5,
    "start_time": "2022-05-11T05:13:48.152Z"
   },
   {
    "duration": 233,
    "start_time": "2022-05-11T05:13:49.161Z"
   },
   {
    "duration": 194,
    "start_time": "2022-05-11T05:13:49.396Z"
   },
   {
    "duration": 14,
    "start_time": "2022-05-11T05:13:49.952Z"
   },
   {
    "duration": 12,
    "start_time": "2022-05-11T05:13:50.559Z"
   },
   {
    "duration": 29,
    "start_time": "2022-05-11T05:13:52.865Z"
   },
   {
    "duration": 14,
    "start_time": "2022-05-11T05:13:52.896Z"
   },
   {
    "duration": 1404,
    "start_time": "2022-05-11T06:13:59.950Z"
   },
   {
    "duration": 19,
    "start_time": "2022-05-11T06:14:01.356Z"
   },
   {
    "duration": 12,
    "start_time": "2022-05-11T06:14:01.377Z"
   },
   {
    "duration": 19,
    "start_time": "2022-05-11T06:14:01.391Z"
   },
   {
    "duration": 29,
    "start_time": "2022-05-11T06:14:01.412Z"
   },
   {
    "duration": 26,
    "start_time": "2022-05-11T06:14:01.442Z"
   },
   {
    "duration": 30,
    "start_time": "2022-05-11T06:14:01.470Z"
   },
   {
    "duration": 68,
    "start_time": "2022-05-11T06:14:01.501Z"
   },
   {
    "duration": 12,
    "start_time": "2022-05-11T06:14:01.570Z"
   },
   {
    "duration": 30,
    "start_time": "2022-05-11T06:14:01.585Z"
   },
   {
    "duration": 33,
    "start_time": "2022-05-11T06:14:01.617Z"
   },
   {
    "duration": 30,
    "start_time": "2022-05-11T06:14:01.651Z"
   },
   {
    "duration": 26,
    "start_time": "2022-05-11T06:14:01.683Z"
   },
   {
    "duration": 315,
    "start_time": "2022-05-11T06:14:01.711Z"
   },
   {
    "duration": 344,
    "start_time": "2022-05-11T06:14:02.028Z"
   },
   {
    "duration": 0,
    "start_time": "2022-05-11T06:14:02.374Z"
   },
   {
    "duration": 0,
    "start_time": "2022-05-11T06:14:02.376Z"
   },
   {
    "duration": 0,
    "start_time": "2022-05-11T06:14:02.377Z"
   },
   {
    "duration": 0,
    "start_time": "2022-05-11T06:14:02.378Z"
   },
   {
    "duration": 0,
    "start_time": "2022-05-11T06:14:02.379Z"
   },
   {
    "duration": 0,
    "start_time": "2022-05-11T06:14:02.381Z"
   },
   {
    "duration": 0,
    "start_time": "2022-05-11T06:14:02.382Z"
   },
   {
    "duration": 0,
    "start_time": "2022-05-11T06:14:02.383Z"
   },
   {
    "duration": 0,
    "start_time": "2022-05-11T06:14:02.385Z"
   },
   {
    "duration": 0,
    "start_time": "2022-05-11T06:14:02.386Z"
   },
   {
    "duration": 0,
    "start_time": "2022-05-11T06:14:02.387Z"
   },
   {
    "duration": 0,
    "start_time": "2022-05-11T06:14:02.388Z"
   },
   {
    "duration": 0,
    "start_time": "2022-05-11T06:14:02.389Z"
   },
   {
    "duration": 0,
    "start_time": "2022-05-11T06:14:02.390Z"
   },
   {
    "duration": 0,
    "start_time": "2022-05-11T06:14:02.391Z"
   },
   {
    "duration": 0,
    "start_time": "2022-05-11T06:14:02.393Z"
   },
   {
    "duration": 0,
    "start_time": "2022-05-11T06:14:02.423Z"
   },
   {
    "duration": 0,
    "start_time": "2022-05-11T06:14:02.425Z"
   },
   {
    "duration": 147,
    "start_time": "2022-05-11T06:14:40.410Z"
   },
   {
    "duration": 186,
    "start_time": "2022-05-11T06:14:57.473Z"
   },
   {
    "duration": 170,
    "start_time": "2022-05-11T06:15:47.360Z"
   },
   {
    "duration": 181,
    "start_time": "2022-05-11T06:15:59.248Z"
   },
   {
    "duration": 193,
    "start_time": "2022-05-11T06:19:41.725Z"
   },
   {
    "duration": 182,
    "start_time": "2022-05-11T06:19:55.277Z"
   },
   {
    "duration": 262,
    "start_time": "2022-05-11T06:20:45.236Z"
   },
   {
    "duration": 320,
    "start_time": "2022-05-11T06:22:01.379Z"
   },
   {
    "duration": 247,
    "start_time": "2022-05-11T06:22:23.619Z"
   },
   {
    "duration": 230,
    "start_time": "2022-05-11T06:22:39.043Z"
   },
   {
    "duration": 3,
    "start_time": "2022-05-11T06:23:02.176Z"
   },
   {
    "duration": 28,
    "start_time": "2022-05-11T06:23:02.181Z"
   },
   {
    "duration": 8,
    "start_time": "2022-05-11T06:23:02.211Z"
   },
   {
    "duration": 15,
    "start_time": "2022-05-11T06:23:02.221Z"
   },
   {
    "duration": 15,
    "start_time": "2022-05-11T06:23:02.237Z"
   },
   {
    "duration": 6,
    "start_time": "2022-05-11T06:23:02.253Z"
   },
   {
    "duration": 13,
    "start_time": "2022-05-11T06:23:02.261Z"
   },
   {
    "duration": 50,
    "start_time": "2022-05-11T06:23:02.276Z"
   },
   {
    "duration": 10,
    "start_time": "2022-05-11T06:23:02.329Z"
   },
   {
    "duration": 22,
    "start_time": "2022-05-11T06:23:02.340Z"
   },
   {
    "duration": 18,
    "start_time": "2022-05-11T06:23:02.363Z"
   },
   {
    "duration": 8,
    "start_time": "2022-05-11T06:23:02.383Z"
   },
   {
    "duration": 16,
    "start_time": "2022-05-11T06:23:02.392Z"
   },
   {
    "duration": 289,
    "start_time": "2022-05-11T06:23:02.410Z"
   },
   {
    "duration": 266,
    "start_time": "2022-05-11T06:23:02.700Z"
   },
   {
    "duration": 192,
    "start_time": "2022-05-11T06:23:02.968Z"
   },
   {
    "duration": 309,
    "start_time": "2022-05-11T06:23:03.162Z"
   },
   {
    "duration": 193,
    "start_time": "2022-05-11T06:23:03.473Z"
   },
   {
    "duration": 320,
    "start_time": "2022-05-11T06:23:03.668Z"
   },
   {
    "duration": 136,
    "start_time": "2022-05-11T06:23:03.990Z"
   },
   {
    "duration": 145,
    "start_time": "2022-05-11T06:23:04.128Z"
   },
   {
    "duration": 5,
    "start_time": "2022-05-11T06:23:04.274Z"
   },
   {
    "duration": 155,
    "start_time": "2022-05-11T06:23:04.281Z"
   },
   {
    "duration": 6,
    "start_time": "2022-05-11T06:23:04.440Z"
   },
   {
    "duration": 263,
    "start_time": "2022-05-11T06:23:04.448Z"
   },
   {
    "duration": 163,
    "start_time": "2022-05-11T06:23:04.714Z"
   },
   {
    "duration": 5,
    "start_time": "2022-05-11T06:23:04.879Z"
   },
   {
    "duration": 239,
    "start_time": "2022-05-11T06:23:04.886Z"
   },
   {
    "duration": 167,
    "start_time": "2022-05-11T06:23:05.127Z"
   },
   {
    "duration": 28,
    "start_time": "2022-05-11T06:23:05.296Z"
   },
   {
    "duration": 13,
    "start_time": "2022-05-11T06:23:05.326Z"
   },
   {
    "duration": 36,
    "start_time": "2022-05-11T06:23:05.341Z"
   },
   {
    "duration": 14,
    "start_time": "2022-05-11T06:23:05.378Z"
   },
   {
    "duration": 250,
    "start_time": "2022-05-11T06:23:24.513Z"
   },
   {
    "duration": 370,
    "start_time": "2022-05-11T06:23:36.186Z"
   },
   {
    "duration": 238,
    "start_time": "2022-05-11T06:23:47.969Z"
   },
   {
    "duration": 346,
    "start_time": "2022-05-11T06:23:56.745Z"
   },
   {
    "duration": 154,
    "start_time": "2022-05-11T06:24:22.769Z"
   },
   {
    "duration": 148,
    "start_time": "2022-05-11T06:24:30.840Z"
   },
   {
    "duration": 143,
    "start_time": "2022-05-11T06:24:38.640Z"
   },
   {
    "duration": 161,
    "start_time": "2022-05-11T06:24:45.752Z"
   },
   {
    "duration": 172,
    "start_time": "2022-05-11T06:24:55.185Z"
   },
   {
    "duration": 161,
    "start_time": "2022-05-11T06:25:03.640Z"
   },
   {
    "duration": 141,
    "start_time": "2022-05-11T06:25:10.960Z"
   },
   {
    "duration": 146,
    "start_time": "2022-05-11T06:25:25.216Z"
   },
   {
    "duration": 142,
    "start_time": "2022-05-11T06:25:37.671Z"
   },
   {
    "duration": 164,
    "start_time": "2022-05-11T06:25:45.960Z"
   },
   {
    "duration": 303,
    "start_time": "2022-05-11T06:25:51.047Z"
   },
   {
    "duration": 261,
    "start_time": "2022-05-11T06:25:55.567Z"
   },
   {
    "duration": 175,
    "start_time": "2022-05-11T06:26:05.991Z"
   }
  ],
  "kernelspec": {
   "display_name": "Python 3 (ipykernel)",
   "language": "python",
   "name": "python3"
  },
  "language_info": {
   "codemirror_mode": {
    "name": "ipython",
    "version": 3
   },
   "file_extension": ".py",
   "mimetype": "text/x-python",
   "name": "python",
   "nbconvert_exporter": "python",
   "pygments_lexer": "ipython3",
   "version": "3.9.7"
  },
  "toc": {
   "base_numbering": 1,
   "nav_menu": {},
   "number_sections": true,
   "sideBar": true,
   "skip_h1_title": true,
   "title_cell": "Table of Contents",
   "title_sidebar": "Contents",
   "toc_cell": false,
   "toc_position": {},
   "toc_section_display": true,
   "toc_window_display": false
  }
 },
 "nbformat": 4,
 "nbformat_minor": 2
}
